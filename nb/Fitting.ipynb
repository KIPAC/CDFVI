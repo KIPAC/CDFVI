{
 "cells": [
  {
   "cell_type": "code",
   "execution_count": null,
   "id": "2805810e-0b78-4924-a772-8f6462236d96",
   "metadata": {},
   "outputs": [],
   "source": [
    "import numpy as np\n",
    "import matplotlib.pyplot as plt\n",
    "import pyccl as ccl\n",
    "import scipy"
   ]
  },
  {
   "cell_type": "code",
   "execution_count": null,
   "id": "56df077a-8b25-49ef-a144-62e502bd760b",
   "metadata": {},
   "outputs": [],
   "source": [
    "cosmo = ccl.Cosmology(\n",
    "    Omega_c=0.25, Omega_b=0.05,\n",
    "    h=0.7, n_s=0.95, sigma8=0.8,\n",
    "    transfer_function='bbks'\n",
    ")\n",
    "\n",
    "cosmo_no_lambda = ccl.Cosmology(\n",
    "    Omega_c=0.25, Omega_b=0.05,\n",
    "    w0 = 0., wa = 0,\n",
    "    h=0.7, n_s=0.95, sigma8=0.8,\n",
    "    transfer_function='bbks'\n",
    ")\n",
    "\n",
    "cosmo_no_lambda_v2 = ccl.Cosmology(\n",
    "    Omega_c=0.94, Omega_b=0.05,\n",
    "    h=0.7, n_s=0.95, sigma8=0.8,\n",
    "    transfer_function='bbks'\n",
    ")\n",
    "\n",
    "cosmo_w0wa = ccl.Cosmology(\n",
    "    Omega_c=0.25, Omega_b=0.05,\n",
    "    w0=-0.8, wa=-1.0,\n",
    "    h=0.7, n_s=0.95, sigma8=0.8,\n",
    "    transfer_function='bbks'\n",
    ")\n"
   ]
  },
  {
   "cell_type": "code",
   "execution_count": null,
   "id": "a4517f4d-eed2-4064-85de-895903b25698",
   "metadata": {},
   "outputs": [],
   "source": [
    "def z_to_a(z: np.ndarray) -> np.ndarray:\n",
    "    return 1/(1+z)\n",
    "\n",
    "def a_to_z(a: np.ndarray) -> np.ndarray:\n",
    "    return 1/(1-a)\n",
    "\n",
    "def int_j(cosmo, z_vals):\n",
    "    a_vals = z_to_a(z_vals)\n",
    "    j = 1./cosmo.h_over_h0(a_vals)\n",
    "    z_widths = z_vals[1:] - z_vals[0:-1]    \n",
    "    return np.cumsum(j)[1:] * z_widths\n",
    "\n",
    "def chiRatio(cosmo, z_d: np.ndarray, z_s: np.ndarray) -> np.ndarray:\n",
    "    a_d = z_to_a(z_d)\n",
    "    a_s = z_to_a(z_s)\n",
    "    chi_d = cosmo.comoving_radial_distance(a_d.ravel()).reshape(a_d.shape)\n",
    "    chi_s = cosmo.comoving_radial_distance(a_s.ravel()).reshape(a_s.shape)\n",
    "    rat = chi_s/chi_d\n",
    "    return rat\n",
    "\n",
    "def int_j_ratio(int_j_func, z_d: np.ndarray, z_s: np.ndarray) -> np.ndarray:\n",
    "    int_j_s = int_j_func(z_s)\n",
    "    int_j_d = int_j_func(z_d)\n",
    "    return int_j_s/int_j_d"
   ]
  },
  {
   "cell_type": "code",
   "execution_count": null,
   "id": "564ac2a0-63c2-4c94-a246-26d8c0bda0bd",
   "metadata": {},
   "outputs": [],
   "source": [
    "n_obj = 1200\n",
    "z_lens_mean = 0.74\n",
    "z_lens_scale = 0.49\n",
    "z_source_mean = 2.31\n",
    "z_source_scale = 0.49"
   ]
  },
  {
   "cell_type": "code",
   "execution_count": null,
   "id": "e4023add-d8c1-4563-8778-73b09d4de8db",
   "metadata": {},
   "outputs": [],
   "source": [
    "z_lens_dist = scipy.stats.lognorm(scale=z_lens_mean, s=z_lens_scale)\n",
    "z_source_dist = scipy.stats.lognorm(scale=z_source_mean, s=z_source_scale)"
   ]
  },
  {
   "cell_type": "code",
   "execution_count": null,
   "id": "e4e4d526-c928-4765-aeff-b89777c3a44d",
   "metadata": {},
   "outputs": [],
   "source": [
    "z_lens_vals = z_lens_dist.rvs(n_obj)\n",
    "z_source_vals = z_source_dist.rvs(n_obj)\n",
    "mask = np.bitwise_and(z_source_vals - z_lens_vals > 0.1, z_source_vals<6)\n",
    "z_lens_vals = z_lens_vals[mask]\n",
    "z_source_vals = z_source_vals[mask]"
   ]
  },
  {
   "cell_type": "code",
   "execution_count": null,
   "id": "e1183190-5640-46c6-82d1-f06e6457774a",
   "metadata": {},
   "outputs": [],
   "source": [
    "vals = chiRatio(cosmo, z_lens_vals, z_source_vals)\n",
    "vals_no_lambda = chiRatio(cosmo_no_lambda, z_lens_vals, z_source_vals)\n",
    "vals_wowa = chiRatio(cosmo_w0wa, z_lens_vals, z_source_vals)\n",
    "\n",
    "err_level = 0.05\n",
    "scatter = np.random.normal(0, err_level, size=len(z_source_vals))\n",
    "errs = vals*err_level\n",
    "errs_no_lambda = vals_no_lambda*err_level\n",
    "errs_wowa = vals_wowa*err_level"
   ]
  },
  {
   "cell_type": "code",
   "execution_count": null,
   "id": "07833ee5-de63-4840-b83c-3826524e3083",
   "metadata": {},
   "outputs": [],
   "source": [
    "_ = plt.hist(z_lens_vals, bins=np.linspace(0, 6, 121), alpha=0.6, label=\"lens\")\n",
    "_ = plt.hist(z_source_vals, bins=np.linspace(0, 6, 121), alpha=0.6, label=\"source\")\n",
    "_ = plt.xlabel('z')\n",
    "_ = plt.ylabel(\"Objects / [0.05]\")"
   ]
  },
  {
   "cell_type": "code",
   "execution_count": null,
   "id": "94fd6d3a-f2a3-4378-aa52-e5db12ebbd07",
   "metadata": {},
   "outputs": [],
   "source": [
    "zmin = 0.01\n",
    "zmax = 6\n",
    "nzBins = 300"
   ]
  },
  {
   "cell_type": "code",
   "execution_count": null,
   "id": "a5a51aed-b90d-4719-981c-6e8ae695fd54",
   "metadata": {},
   "outputs": [],
   "source": [
    "z_grid = np.linspace(zmin, zmax, nzBins)\n",
    "z_widths = z_grid[1:] - z_grid[0:-1]\n",
    "a_grid = z_to_a(z_grid)"
   ]
  },
  {
   "cell_type": "code",
   "execution_count": null,
   "id": "ca181115-3e23-4e5e-b517-b446bad47157",
   "metadata": {},
   "outputs": [],
   "source": [
    "result1d = np.polynomial.Polynomial.fit(z_grid[1:], int_j(cosmo, z_grid), deg=6).convert()"
   ]
  },
  {
   "cell_type": "code",
   "execution_count": null,
   "id": "f725cc25-d68c-4a41-bf17-c6275be9772e",
   "metadata": {},
   "outputs": [],
   "source": [
    "result1d.coef"
   ]
  },
  {
   "cell_type": "code",
   "execution_count": null,
   "id": "7f3ed031-f77d-4f03-bc85-c233eb7f46d4",
   "metadata": {},
   "outputs": [],
   "source": [
    "result1d"
   ]
  },
  {
   "cell_type": "code",
   "execution_count": null,
   "id": "f1745c03-1de8-4fcf-9a7c-2ee5e04b7028",
   "metadata": {},
   "outputs": [],
   "source": [
    "int_j_func = np.polynomial.Polynomial(result1d.coef)"
   ]
  },
  {
   "cell_type": "code",
   "execution_count": null,
   "id": "f7ae86a8-63c0-4bf3-82dc-39be66878000",
   "metadata": {},
   "outputs": [],
   "source": [
    "check = int_j_ratio(int_j_func, z_lens_vals, z_source_vals)"
   ]
  },
  {
   "cell_type": "code",
   "execution_count": null,
   "id": "2cd6d975-9419-4bf3-b5db-3959421c5c75",
   "metadata": {},
   "outputs": [],
   "source": [
    "_ = plt.plot(z_grid[1:], int_j(cosmo, z_grid))\n",
    "_ = plt.plot(z_grid, result1d(z_grid))\n",
    "_ = plt.plot(z_grid, int_j_func(z_grid))"
   ]
  },
  {
   "cell_type": "code",
   "execution_count": null,
   "id": "732aba18-89e8-4496-9e61-334758d0640a",
   "metadata": {},
   "outputs": [],
   "source": [
    "_ = plt.plot(z_grid[1:], int_j(cosmo, z_grid) - result1d(z_grid[1:]))\n",
    "_ = plt.plot(z_grid[1:], int_j(cosmo, z_grid) - int_j_func(z_grid[1:]))"
   ]
  },
  {
   "cell_type": "code",
   "execution_count": null,
   "id": "a327f4ec-4940-41b1-b516-7bc60822c6cc",
   "metadata": {},
   "outputs": [],
   "source": [
    "class PolyFit:\n",
    "\n",
    "    def __init__(self, z_d, z_s, data, errors):\n",
    "        self.z_d = z_d\n",
    "        self.z_s = z_s\n",
    "        self.data = data\n",
    "        self.errors = errors\n",
    "\n",
    "    @staticmethod\n",
    "    def chi2Vals(data, errors, model):\n",
    "        delta = (data - model)/errors\n",
    "        return delta*delta\n",
    "        \n",
    "    @staticmethod\n",
    "    def modelVals(z_d, z_s, params):\n",
    "        poly = np.polynomial.Polynomial(params)\n",
    "        int_j_s = poly(z_s)\n",
    "        int_j_d = poly(z_d)\n",
    "        return int_j_s/int_j_d\n",
    "\n",
    "    @staticmethod\n",
    "    def modelSpace(z_grid, params):        \n",
    "        mesh = np.meshgrid(z_grid, z_grid)\n",
    "        z_d = mesh[0]\n",
    "        z_s = mesh[1]\n",
    "        poly = np.polynomial.Polynomial(params)\n",
    "        int_j_s = poly(z_s.ravel()).reshape(z_s.shape)\n",
    "        int_j_d = poly(z_d.ravel()).reshape(z_d.shape)\n",
    "        rat =  int_j_d/int_j_s\n",
    "        return np.where(z_s-z_d > 0.1, rat, 0.)\n",
    "    \n",
    "    def model(self, params):\n",
    "        return PolyFit.modelVals(self.z_d, self.z_s, params)\n",
    "\n",
    "    def chi2(self, params):\n",
    "        model = self.model(params)\n",
    "        return PolyFit.chi2Vals(self.data, self.errors, model)\n",
    "    \n",
    "    def __call__(self, params):\n",
    "        chi2v = self.chi2(params)\n",
    "        return chi2v.sum()\n",
    "    "
   ]
  },
  {
   "cell_type": "code",
   "execution_count": null,
   "id": "17ced3b4-a249-4a57-8b6d-85f822de1280",
   "metadata": {},
   "outputs": [],
   "source": [
    "pf = PolyFit(z_lens_vals, z_source_vals, vals, errs)"
   ]
  },
  {
   "cell_type": "code",
   "execution_count": null,
   "id": "da3b77b4-53cb-4ffb-a0fd-168e02c6c2ee",
   "metadata": {},
   "outputs": [],
   "source": [
    "init_pars = result1d.coef"
   ]
  },
  {
   "cell_type": "code",
   "execution_count": null,
   "id": "31d1c788-e918-4503-ba1c-f038c6f0b49d",
   "metadata": {},
   "outputs": [],
   "source": [
    "result = scipy.optimize.minimize(pf, init_pars, method='nelder-mead', options={'xatol': 1e-8, 'disp': True, 'maxiter':2000})\n"
   ]
  },
  {
   "cell_type": "code",
   "execution_count": null,
   "id": "3a5bef49-d274-435b-8898-5b5ad6dd6fbb",
   "metadata": {},
   "outputs": [],
   "source": [
    "modeler = np.polynomial.Polynomial(result.x)"
   ]
  },
  {
   "cell_type": "code",
   "execution_count": null,
   "id": "e676e75d-a7a7-48e0-b60a-21d4e0d30e1b",
   "metadata": {},
   "outputs": [],
   "source": [
    "_ = plt.plot(z_grid[1:], int_j(cosmo, z_grid))\n",
    "_ = plt.plot(z_grid, 0.5*modeler(z_grid))"
   ]
  },
  {
   "cell_type": "code",
   "execution_count": null,
   "id": "3916dfd8-970b-43c5-bcd1-43a5f0d3cc87",
   "metadata": {},
   "outputs": [],
   "source": [
    "modelSpace = PolyFit.modelSpace(z_grid, result.x)"
   ]
  },
  {
   "cell_type": "code",
   "execution_count": null,
   "id": "770ca77d-fec2-45e7-ac4e-683a0d20b17f",
   "metadata": {},
   "outputs": [],
   "source": [
    "_ = plt.imshow(modelSpace, origin='lower', norm='log', extent=(z_grid[0], z_grid[-1], z_grid[0], z_grid[-1]))\n",
    "_ = plt.colorbar(label=r\"$R_{ds} = \\chi_{s}/\\chi_{d}$\")\n",
    "_ = plt.xlabel(r'$z_{\\rm d}$')\n",
    "_ = plt.ylabel(r'$z_{\\rm s}$')\n",
    "_ = plt.title(r'$\\Lambda CDM$')"
   ]
  },
  {
   "cell_type": "code",
   "execution_count": null,
   "id": "a1091afb-b9de-4943-a788-e4419af6c2dd",
   "metadata": {},
   "outputs": [],
   "source": []
  },
  {
   "cell_type": "code",
   "execution_count": null,
   "id": "e54e7e1a-9a96-45f4-a8a0-b623c8831960",
   "metadata": {},
   "outputs": [],
   "source": []
  }
 ],
 "metadata": {
  "kernelspec": {
   "display_name": "Python 3 (ipykernel)",
   "language": "python",
   "name": "python3"
  },
  "language_info": {
   "codemirror_mode": {
    "name": "ipython",
    "version": 3
   },
   "file_extension": ".py",
   "mimetype": "text/x-python",
   "name": "python",
   "nbconvert_exporter": "python",
   "pygments_lexer": "ipython3",
   "version": "3.12.11"
  }
 },
 "nbformat": 4,
 "nbformat_minor": 5
}
