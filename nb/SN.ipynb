{
 "cells": [
  {
   "cell_type": "code",
   "execution_count": null,
   "id": "0d97fceb-47e8-4cba-aa55-5d0e650f2744",
   "metadata": {},
   "outputs": [],
   "source": [
    "import numpy as np\n",
    "import matplotlib.pyplot as plt\n",
    "import pyccl as ccl\n",
    "import scipy\n",
    "import pandas\n",
    "from astropy.cosmology import FlatLambdaCDM\n",
    "import astropy.units as u\n",
    "from cdfvi import funcs, SNCosmoChi2, SNPolyChi2"
   ]
  },
  {
   "cell_type": "code",
   "execution_count": null,
   "id": "04bf7533-e1e8-4711-a5a8-51d5704e1011",
   "metadata": {},
   "outputs": [],
   "source": [
    "cosmo = ccl.Cosmology(\n",
    "    Omega_c=0.25, Omega_b=0.05,\n",
    "    h=0.7, n_s=0.95, sigma8=0.8,\n",
    "    transfer_function='bbks'\n",
    ")\n",
    "\n",
    "cosmo_astro = FlatLambdaCDM(H0=70*u.km / u.s / u.Mpc, Om0=0.3, Ob0=0.05)\n",
    "\n",
    "\n",
    "zmin = 0.01\n",
    "zmax = 6\n",
    "nzBins = 300\n",
    "z_grid = np.linspace(zmin, zmax, nzBins)\n",
    "z_widths = z_grid[1:] - z_grid[0:-1]\n",
    "a_grid = funcs.z_to_a(z_grid)"
   ]
  },
  {
   "cell_type": "code",
   "execution_count": null,
   "id": "826a814b-d73b-4c75-bac2-ad2c86284801",
   "metadata": {},
   "outputs": [],
   "source": [
    "param_names = ['H0', 'Om0', 'Ob0']\n",
    "init_pars_cosmo = [70, 0.25, 0.05]\n",
    "param_scales = dict(H0=u.km / u.s / u.Mpc)\n",
    "\n"
   ]
  },
  {
   "cell_type": "code",
   "execution_count": null,
   "id": "a0a1b062-d6cc-48e5-b169-bf264ddc9985",
   "metadata": {},
   "outputs": [],
   "source": [
    "dd_obs = pandas.read_csv('DES-SN5YR_HD.csv')"
   ]
  },
  {
   "cell_type": "code",
   "execution_count": null,
   "id": "1bb7fd14-0728-4159-9249-32cc43ccb428",
   "metadata": {},
   "outputs": [],
   "source": [
    "def simSN(cosmo, dd):\n",
    "    mu_cosmo = cosmo.distance_modulus(1/(1+dd.zHD.values))\n",
    "    mu_obs = mu_cosmo + np.random.normal(0, dd.MUERR_FINAL)\n",
    "    dd_out = dd.copy(deep=True)\n",
    "    dd_out['MU'] = mu_obs \n",
    "    return dd_out"
   ]
  },
  {
   "cell_type": "code",
   "execution_count": null,
   "id": "fb7ff801-845f-4eac-904c-a19ec7c8066f",
   "metadata": {},
   "outputs": [],
   "source": [
    "dd_sim = simSN(cosmo, dd_obs)\n",
    "dd = dd_sim"
   ]
  },
  {
   "cell_type": "code",
   "execution_count": null,
   "id": "52159bab-a402-4a41-8d96-2aad79139575",
   "metadata": {},
   "outputs": [],
   "source": [
    "dd"
   ]
  },
  {
   "cell_type": "code",
   "execution_count": null,
   "id": "afb7d681-a7c8-4b7e-a523-e98676468200",
   "metadata": {},
   "outputs": [],
   "source": [
    "dd['D_l'] = np.power(10, (dd.MU+5)/5.) / 1e9\n",
    "dd['D_l_err'] = dd.D_l*dd.MUERR_FINAL\n",
    "dd['a'] = 1/(1 + dd.zHD)\n",
    "dd['chi'] = dd.D_l * dd.a\n",
    "dd['chi_err'] = dd.chi*dd.MUERR_FINAL\n",
    "mask = dd.MUERR_FINAL < 0.5\n",
    "ddmask = dd[mask]"
   ]
  },
  {
   "cell_type": "code",
   "execution_count": null,
   "id": "9bdb95dd-c8aa-4cb9-aed0-931bdb1c3f3c",
   "metadata": {},
   "outputs": [],
   "source": [
    "_ = plt.hist(dd.zHD, bins=np.linspace(0, 1.2, 121))"
   ]
  },
  {
   "cell_type": "code",
   "execution_count": null,
   "id": "9b603f94-3a8c-469a-ba1b-c4bd8ad2d281",
   "metadata": {},
   "outputs": [],
   "source": [
    "_ = plt.errorbar(ddmask.zHD, ddmask.MU, ddmask.MUERR_FINAL, ls=\"\", marker='.')\n",
    "_ = plt.plot(z_grid, cosmo.distance_modulus(a_grid), label=f\"$\\Lambda$CDM\")\n",
    "_ = plt.xlim(0, 1.2)\n",
    "_ = plt.ylim(34, 46)\n",
    "_ = plt.xlabel(\"z\")\n",
    "_ = plt.ylabel(\"M - m [mag]\")\n",
    "_ = plt.legend()"
   ]
  },
  {
   "cell_type": "code",
   "execution_count": null,
   "id": "c2d3ee21-1a84-4d5a-ba89-52a3409e8738",
   "metadata": {},
   "outputs": [],
   "source": [
    "_ = plt.errorbar(ddmask.zHD, ddmask.D_l, ddmask.D_l_err, ls=\"\", marker='.', alpha=0.2)\n",
    "_ = plt.plot(z_grid, cosmo.luminosity_distance(a_grid)/1e3, label=f\"$\\Lambda$CDM\")\n",
    "_ = plt.plot(z_grid, cosmo_astro.luminosity_distance(z_grid)/1e3, label=f\"$\\Lambda$CDM\")\n",
    "_ = plt.xlim(0, 1.2)\n",
    "_ = plt.ylim(0, 10)\n",
    "_ = plt.xlabel(\"z\")\n",
    "_ = plt.ylabel(r\"$D_l$ [Gpc]\")\n",
    "_ = plt.legend()"
   ]
  },
  {
   "cell_type": "code",
   "execution_count": null,
   "id": "60c4f356-f4d3-4a64-bcab-51d06cc43c3a",
   "metadata": {},
   "outputs": [],
   "source": [
    "_ = plt.errorbar(ddmask.zHD, ddmask.chi, ddmask.chi_err, ls=\"\", marker='.', alpha=0.2)\n",
    "_ = plt.plot(z_grid, cosmo.comoving_radial_distance(a_grid)/1e3, label=r\"$\\Lambda$CMD\")\n",
    "_ = plt.plot(z_grid, cosmo_astro.comoving_distance(z_grid)/1e3, label=f\"$\\Lambda$CDM\")\n",
    "_ = plt.xlim(0, 1.1)\n",
    "_ = plt.ylim(0.1, 10)\n",
    "_ = plt.yscale('log')\n",
    "_ = plt.xlabel(\"z\")\n",
    "_ = plt.ylabel(r\"$\\chi$ [Gpc]\")\n",
    "_ = plt.legend()"
   ]
  },
  {
   "cell_type": "code",
   "execution_count": null,
   "id": "c5294422-18b2-4f24-b677-d194cdecad1a",
   "metadata": {},
   "outputs": [],
   "source": [
    "fixed_vals = dict()\n",
    "param_names = ['H0', 'Om0', 'Ob0']\n",
    "init_pars_cosmo = [70, 0.25, 0.05]\n",
    "param_scales = dict(H0=u.km / u.s / u.Mpc)\n",
    "sncf = SNCosmoChi2(ddmask.zHD.values, ddmask.chi.values, ddmask.chi_err.values, param_names, param_scales, **fixed_vals)"
   ]
  },
  {
   "cell_type": "code",
   "execution_count": null,
   "id": "9f0dc163-5d21-48f7-8372-35e978310fa2",
   "metadata": {},
   "outputs": [],
   "source": [
    "#result_c = scipy.optimize.minimize(sncf, init_pars_cosmo, method='nelder-mead', options={'xatol': 1e-9, 'disp': True, 'maxiter':2000})\n",
    "result_c = scipy.optimize.minimize(sncf, init_pars_cosmo, method='L-BFGS-B', options={'gtol': 0.01})\n"
   ]
  },
  {
   "cell_type": "code",
   "execution_count": null,
   "id": "9737f716-eb0c-4467-8651-7fc506bf0301",
   "metadata": {},
   "outputs": [],
   "source": [
    "_ = plt.errorbar(ddmask.zHD, ddmask.chi, ddmask.chi_err, ls=\"\", marker='.', alpha=0.2)\n",
    "_ = plt.plot(z_grid, cosmo.comoving_radial_distance(a_grid)/1e3, label=r\"$\\Lambda$CMD\")\n",
    "_ = plt.plot(z_grid, sncf.modelSpace(z_grid, result_c.x), label='Fit')\n",
    "_ = plt.xlim(0, 1.1)\n",
    "_ = plt.ylim(0.1, 4)\n",
    "#_ = plt.yscale('log')\n",
    "_ = plt.legend()"
   ]
  },
  {
   "cell_type": "code",
   "execution_count": null,
   "id": "ed2100c0-d0bb-42d9-ad62-ab2279924a2d",
   "metadata": {},
   "outputs": [],
   "source": [
    "delta = 1 - 1e3*sncf.modelSpace(z_grid, result_c.x)/cosmo.comoving_radial_distance(a_grid)\n",
    "delta_2= 1 - (1e3*sncf.modelSpace(z_grid, result_c.x)/cosmo_astro.comoving_distance(z_grid)).value\n",
    "\n",
    "_ = plt.plot(z_grid, delta, label=r\"$\\Lambda$CMD\")\n",
    "_ = plt.plot(z_grid, delta_2, label=r\"$\\Lambda$CMD\")\n"
   ]
  },
  {
   "cell_type": "code",
   "execution_count": null,
   "id": "7dc06d55-24e3-4ea7-b94b-255823da6532",
   "metadata": {},
   "outputs": [],
   "source": [
    "result_c.x"
   ]
  },
  {
   "cell_type": "code",
   "execution_count": null,
   "id": "cee3795a-612a-4bcc-98df-5b727b56056e",
   "metadata": {},
   "outputs": [],
   "source": [
    "mat = np.matrix(result_c.hess_inv.todense())\n",
    "hesse = mat.getI()\n",
    "h0_grid = np.linspace(60, 80, 401)\n",
    "Om0_grid = np.linspace(0.2, 0.5, 501)\n",
    "mesh = np.meshgrid(h0_grid, Om0_grid)\n",
    "dx, dy = mesh[0] - result_c.x[0], mesh[1] - result_c.x[1]\n",
    "nulls = np.zeros(dx.shape)\n",
    "dels = np.squeeze(np.dstack([dx.ravel(), dy.ravel(), nulls.ravel()]))\n",
    "diffs = np.reshape(np.array([np.matmul(del_, np.matmul(hesse, del_).T) for del_ in dels]), dx.shape)"
   ]
  },
  {
   "cell_type": "code",
   "execution_count": null,
   "id": "25241d96-5e43-4fb5-a812-818cc7e2889e",
   "metadata": {},
   "outputs": [],
   "source": [
    "_ = plt.contour(h0_grid, Om0_grid, diffs, levels=[1, 4, 9])\n",
    "_ = plt.xlabel(r'$H_{0} [km \\cdot s^{-1} \\cdot Mpc^{-1}]$') \n",
    "_ = plt.ylabel(r'$\\Omega_{m, 0}$')"
   ]
  },
  {
   "cell_type": "code",
   "execution_count": null,
   "id": "714710f3-43ee-48f2-af9c-eb9a7f9c87d1",
   "metadata": {},
   "outputs": [],
   "source": []
  },
  {
   "cell_type": "code",
   "execution_count": null,
   "id": "2b12e6db-bddf-4a38-8019-d716e5de600c",
   "metadata": {},
   "outputs": [],
   "source": [
    "poly_class = np.polynomial.Polynomial"
   ]
  },
  {
   "cell_type": "code",
   "execution_count": null,
   "id": "5fffd18f-44d3-4f07-84ef-3e6bacbb29d3",
   "metadata": {},
   "outputs": [],
   "source": [
    "result1d = poly_class.fit(z_grid[1:], funcs.J_integral(cosmo, z_grid), deg=3).convert()\n",
    "int_j_func = poly_class(result1d.coef)\n",
    "init_pars = result1d.coef"
   ]
  },
  {
   "cell_type": "code",
   "execution_count": null,
   "id": "0fbf6dc4-4ffd-4552-bdc6-4130eb71c4ad",
   "metadata": {},
   "outputs": [],
   "source": [
    "_ = plt.plot(z_grid[1:], funcs.J_integral(cosmo, z_grid))\n",
    "_ = plt.plot(z_grid, result1d(z_grid))\n",
    "_ = plt.plot(z_grid, int_j_func(z_grid))"
   ]
  },
  {
   "cell_type": "code",
   "execution_count": null,
   "id": "5dbef2bb-d61b-4c06-a13f-5bc48b157b75",
   "metadata": {},
   "outputs": [],
   "source": [
    "snpf = SNPolyChi2(ddmask.zHEL.values, ddmask.chi.values, ddmask.chi_err.values, constraint=1e-4, poly_type=poly_class)"
   ]
  },
  {
   "cell_type": "code",
   "execution_count": null,
   "id": "f2d2384b-f7a3-4f63-962a-4fbff73d5ac1",
   "metadata": {},
   "outputs": [],
   "source": [
    "result = scipy.optimize.minimize(snpf, init_pars, method='nelder-mead', options={'xatol': 1e-9, 'disp': True, 'maxiter':2000})"
   ]
  },
  {
   "cell_type": "code",
   "execution_count": null,
   "id": "41800425-861c-4672-bc8a-975bb5f1b30c",
   "metadata": {},
   "outputs": [],
   "source": [
    "_ = plt.errorbar(ddmask.zHEL, ddmask.chi, ddmask.chi_err, ls=\"\", marker='.', alpha=0.2)\n",
    "_ = plt.plot(z_grid, snpf.modelSpace(z_grid, result.x, poly_type=poly_class))\n",
    "_ = plt.xlim(0, 1.1)\n",
    "_ = plt.ylim(0.1, 10)"
   ]
  },
  {
   "cell_type": "code",
   "execution_count": null,
   "id": "50351379-942d-4bec-81ff-99bf1fcff334",
   "metadata": {},
   "outputs": [],
   "source": []
  },
  {
   "cell_type": "code",
   "execution_count": null,
   "id": "f323625d-32ec-4c63-9557-06f1e661a9ce",
   "metadata": {},
   "outputs": [],
   "source": []
  }
 ],
 "metadata": {
  "kernelspec": {
   "display_name": "Python 3 (ipykernel)",
   "language": "python",
   "name": "python3"
  },
  "language_info": {
   "codemirror_mode": {
    "name": "ipython",
    "version": 3
   },
   "file_extension": ".py",
   "mimetype": "text/x-python",
   "name": "python",
   "nbconvert_exporter": "python",
   "pygments_lexer": "ipython3",
   "version": "3.12.11"
  }
 },
 "nbformat": 4,
 "nbformat_minor": 5
}
