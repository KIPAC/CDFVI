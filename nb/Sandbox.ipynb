{
 "cells": [
  {
   "cell_type": "code",
   "execution_count": null,
   "id": "58e5cee8-9d78-43f4-9abb-5975593827b3",
   "metadata": {},
   "outputs": [],
   "source": [
    "import numpy as np\n",
    "import matplotlib.pyplot as plt\n",
    "import pyccl as ccl\n",
    "import scipy\n",
    "from cdfvi import funcs"
   ]
  },
  {
   "cell_type": "code",
   "execution_count": null,
   "id": "5229969f-bf5a-4982-8059-92f3141cf854",
   "metadata": {},
   "outputs": [],
   "source": [
    "cosmo = ccl.Cosmology(\n",
    "    Omega_c=0.25, Omega_b=0.05,\n",
    "    h=0.7, n_s=0.95, sigma8=0.8,\n",
    "    transfer_function='bbks'\n",
    ")\n",
    "\n",
    "cosmo_no_lambda = ccl.Cosmology(\n",
    "    Omega_c=0.25, Omega_b=0.05,\n",
    "    w0 = 0., wa = 0,\n",
    "    h=0.7, n_s=0.95, sigma8=0.8,\n",
    "    transfer_function='bbks'\n",
    ")\n",
    "\n",
    "cosmo_no_lambda_v2 = ccl.Cosmology(\n",
    "    Omega_c=0.94, Omega_b=0.05,\n",
    "    h=0.7, n_s=0.95, sigma8=0.8,\n",
    "    transfer_function='bbks'\n",
    ")\n",
    "\n",
    "cosmo_w0wa = ccl.Cosmology(\n",
    "    Omega_c=0.25, Omega_b=0.05,\n",
    "    w0=-0.8, wa=-1.0,\n",
    "    h=0.7, n_s=0.95, sigma8=0.8,\n",
    "    transfer_function='bbks'\n",
    ")\n"
   ]
  },
  {
   "cell_type": "code",
   "execution_count": null,
   "id": "4f8e052f-f542-4672-89d7-5484b57f0f90",
   "metadata": {},
   "outputs": [],
   "source": [
    "sim_vals = dict(\n",
    "    n_obj = 1200,\n",
    "    z_lens_mean = 0.74,\n",
    "    z_lens_scale = 0.49,\n",
    "    z_source_mean = 2.31,\n",
    "    z_source_scale = 0.45,\n",
    ")"
   ]
  },
  {
   "cell_type": "code",
   "execution_count": null,
   "id": "3b2a4106-8bb3-4060-a562-344d5d9ea9c1",
   "metadata": {},
   "outputs": [],
   "source": [
    "sims = funcs.simulate_lens_systems(**sim_vals)"
   ]
  },
  {
   "cell_type": "code",
   "execution_count": null,
   "id": "9192efe3-9c41-4e3f-9366-e82042e400dc",
   "metadata": {},
   "outputs": [],
   "source": [
    "_ = plt.hist(sims.z_lens, bins=np.linspace(0, 6, 121), alpha=0.6, label=\"lens\")\n",
    "_ = plt.hist(sims.z_source, bins=np.linspace(0, 6, 121), alpha=0.6, label=\"source\")\n",
    "_ = plt.xlabel('z')\n",
    "_ = plt.ylabel(\"Objects / [0.05]\")\n",
    "_ = plt.legend()"
   ]
  },
  {
   "cell_type": "code",
   "execution_count": null,
   "id": "3bb552cb-8fec-4b0e-b9df-79c15d46320c",
   "metadata": {},
   "outputs": [],
   "source": [
    "_ = plt.scatter(sims.z_lens, sims.z_source)\n",
    "_ = plt.xlim(0, 3)\n",
    "_ = plt.ylim(0, 6)\n",
    "_ = plt.xlabel(r\"$z_{d}$\")\n",
    "_ = plt.ylabel(r\"$z_{s}$\")"
   ]
  },
  {
   "cell_type": "code",
   "execution_count": null,
   "id": "dc24a8cb-183c-4afc-976b-c8ceaa1c6774",
   "metadata": {},
   "outputs": [],
   "source": [
    "z_source_vals = sims.z_source.to_numpy()\n",
    "z_lens_vals = sims.z_lens.to_numpy()\n",
    "vals = funcs.R_flat(cosmo, z_lens_vals, z_source_vals)\n",
    "vals_no_lambda = funcs.R_flat(cosmo_no_lambda, z_lens_vals, z_source_vals)\n",
    "vals_wowa = funcs.R_flat(cosmo_w0wa, z_lens_vals, z_source_vals)\n",
    "\n",
    "scatter = np.random.normal(0, 0.05, size=len(sims.z_source))"
   ]
  },
  {
   "cell_type": "code",
   "execution_count": null,
   "id": "a1484b21-fcd1-4bf8-b3f0-0520615936cc",
   "metadata": {},
   "outputs": [],
   "source": [
    "vals_meas = vals*(1+scatter)\n",
    "vals_meas_wowa = vals_wowa*(1+scatter)"
   ]
  },
  {
   "cell_type": "code",
   "execution_count": null,
   "id": "14b72e14-2fb2-4b08-b95f-03d4633bf877",
   "metadata": {},
   "outputs": [],
   "source": [
    "_ = plt.scatter(z_lens_vals, z_source_vals, c=vals_meas)\n",
    "_ = plt.xlim(0, 3)\n",
    "_ = plt.ylim(0, 6)\n",
    "_ = plt.colorbar(label=r\"$R_{ds} = \\chi_{d}/\\chi_{s}$\")\n",
    "_ = plt.xlabel(r\"$z_{d}$\")\n",
    "_ = plt.ylabel(r\"$z_{s}$\")\n",
    "_ = plt.title(r\"1000 $\\Lambda CDM$ sims\")"
   ]
  },
  {
   "cell_type": "code",
   "execution_count": null,
   "id": "22abda72-69af-4ffa-852f-e8717fcca1f4",
   "metadata": {},
   "outputs": [],
   "source": [
    "_ = plt.scatter(z_lens_vals, z_source_vals, c=vals_meas-vals, s=5)\n",
    "_ = plt.xlim(0, 3)\n",
    "_ = plt.ylim(0, 6)\n",
    "_ = plt.colorbar(label=r\"$\\delta R_{ds}$\")\n",
    "_ = plt.xlabel(r\"$z_{d}$\")\n",
    "_ = plt.ylabel(r\"$z_{s}$\")\n",
    "_ = plt.title(r\"1000 $\\Lambda CDM$ sims\")"
   ]
  },
  {
   "cell_type": "code",
   "execution_count": null,
   "id": "afcc54c1-b33b-4093-bab5-7b86b04eb3c9",
   "metadata": {},
   "outputs": [],
   "source": [
    "max_abs = np.fabs(vals_meas-vals_no_lambda).max()\n",
    "_ = plt.scatter(z_lens_vals, z_source_vals, c=vals_meas-vals, s=4, vmin=-max_abs, vmax=max_abs)\n",
    "_ = plt.xlim(0, 4)\n",
    "_ = plt.ylim(0, 4)\n",
    "_ = plt.colorbar()"
   ]
  },
  {
   "cell_type": "code",
   "execution_count": null,
   "id": "6680db6a-4a44-4057-aecd-0e105a74c346",
   "metadata": {},
   "outputs": [],
   "source": [
    "max_abs = np.fabs(vals_meas-vals_no_lambda).max()\n",
    "_ = plt.scatter(z_lens_vals, z_source_vals, c=vals_meas-vals_no_lambda, s=5, vmin=-max_abs, vmax=max_abs)\n",
    "_ = plt.xlim(0, 4)\n",
    "_ = plt.ylim(0, 4)\n",
    "_ = plt.colorbar()"
   ]
  },
  {
   "cell_type": "code",
   "execution_count": null,
   "id": "201347c0-86f9-4b97-b332-39272e61677b",
   "metadata": {},
   "outputs": [],
   "source": [
    "max_abs = np.fabs(vals_meas_wowa-vals).max()\n",
    "_ = plt.scatter(z_lens_vals, z_source_vals, c=vals_meas_wowa-vals, s=5) #, vmin=-max_abs, vmax=max_abs)\n",
    "_ = plt.xlim(0, 4)\n",
    "_ = plt.ylim(0, 4)\n",
    "_ = plt.colorbar()"
   ]
  },
  {
   "cell_type": "code",
   "execution_count": null,
   "id": "53b7b856-66dc-4b7f-a427-2591e93535da",
   "metadata": {},
   "outputs": [],
   "source": [
    "z_grid = np.linspace(0, 4, 401)\n",
    "mesh = np.meshgrid(z_grid, z_grid)\n",
    "r = funcs.chi_ratio(cosmo, mesh[0], mesh[1])"
   ]
  },
  {
   "cell_type": "code",
   "execution_count": null,
   "id": "bf33417a-d085-49a9-a32c-603cae932d2d",
   "metadata": {},
   "outputs": [],
   "source": [
    "_ = plt.imshow(r, origin='lower', extent=(z_grid[0], z_grid[-1], z_grid[0], z_grid[-1]))\n",
    "_ = plt.colorbar(label=r\"$D_{\\Delta T}/D_{D}$\")\n",
    "_ = plt.xlabel(r'$z_{\\rm d}$')\n",
    "_ = plt.ylabel(r'$z_{\\rm s}$')\n",
    "_ = plt.title(r'$\\Lambda CDM$')"
   ]
  },
  {
   "cell_type": "code",
   "execution_count": null,
   "id": "7016ee4e-b90b-4fe1-9c46-bf82fd5b9803",
   "metadata": {},
   "outputs": [],
   "source": []
  },
  {
   "cell_type": "code",
   "execution_count": null,
   "id": "f2b389ff-ab69-4620-8516-4c567a4078ab",
   "metadata": {},
   "outputs": [],
   "source": []
  },
  {
   "cell_type": "code",
   "execution_count": null,
   "id": "660eb5b7-d33a-4762-844a-56244367bbb6",
   "metadata": {},
   "outputs": [],
   "source": []
  }
 ],
 "metadata": {
  "kernelspec": {
   "display_name": "Python 3 (ipykernel)",
   "language": "python",
   "name": "python3"
  },
  "language_info": {
   "codemirror_mode": {
    "name": "ipython",
    "version": 3
   },
   "file_extension": ".py",
   "mimetype": "text/x-python",
   "name": "python",
   "nbconvert_exporter": "python",
   "pygments_lexer": "ipython3",
   "version": "3.12.11"
  }
 },
 "nbformat": 4,
 "nbformat_minor": 5
}
