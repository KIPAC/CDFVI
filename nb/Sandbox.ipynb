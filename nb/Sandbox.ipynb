{
 "cells": [
  {
   "cell_type": "code",
   "execution_count": null,
   "id": "58e5cee8-9d78-43f4-9abb-5975593827b3",
   "metadata": {},
   "outputs": [],
   "source": [
    "import numpy as np\n",
    "import matplotlib.pyplot as plt\n",
    "import pyccl as ccl\n",
    "import scipy"
   ]
  },
  {
   "cell_type": "code",
   "execution_count": null,
   "id": "5229969f-bf5a-4982-8059-92f3141cf854",
   "metadata": {},
   "outputs": [],
   "source": [
    "cosmo = ccl.Cosmology(\n",
    "    Omega_c=0.25, Omega_b=0.05,\n",
    "    h=0.7, n_s=0.95, sigma8=0.8,\n",
    "    transfer_function='bbks'\n",
    ")\n",
    "\n",
    "cosmo_no_lambda = ccl.Cosmology(\n",
    "    Omega_c=0.25, Omega_b=0.05,\n",
    "    w0 = 0., wa = 0,\n",
    "    h=0.7, n_s=0.95, sigma8=0.8,\n",
    "    transfer_function='bbks'\n",
    ")\n",
    "\n",
    "cosmo_no_lambda_v2 = ccl.Cosmology(\n",
    "    Omega_c=0.94, Omega_b=0.05,\n",
    "    h=0.7, n_s=0.95, sigma8=0.8,\n",
    "    transfer_function='bbks'\n",
    ")\n",
    "\n",
    "cosmo_w0wa = ccl.Cosmology(\n",
    "    Omega_c=0.25, Omega_b=0.05,\n",
    "    w0=-0.8, wa=-1.0,\n",
    "    h=0.7, n_s=0.95, sigma8=0.8,\n",
    "    transfer_function='bbks'\n",
    ")\n"
   ]
  },
  {
   "cell_type": "code",
   "execution_count": null,
   "id": "4f8e052f-f542-4672-89d7-5484b57f0f90",
   "metadata": {},
   "outputs": [],
   "source": [
    "n_obj = 1200\n",
    "z_lens_mean = 0.74\n",
    "z_lens_scale = 0.49\n",
    "z_source_mean = 2.31\n",
    "z_source_scale = 0.96"
   ]
  },
  {
   "cell_type": "code",
   "execution_count": null,
   "id": "f2bf83cd-482d-4ed2-bcb6-d3f818fa3841",
   "metadata": {},
   "outputs": [],
   "source": [
    "np.log(z_lens_mean)"
   ]
  },
  {
   "cell_type": "code",
   "execution_count": null,
   "id": "fc4ca378-c8ea-48fc-89b1-6ffb8b830827",
   "metadata": {},
   "outputs": [],
   "source": [
    "z_lens_dist = scipy.stats.lognorm(scale=z_lens_mean, s=z_lens_scale)\n",
    "z_source_dist = scipy.stats.lognorm(scale=z_source_mean, s=z_source_scale)"
   ]
  },
  {
   "cell_type": "code",
   "execution_count": null,
   "id": "812b5c84-7666-49aa-a7cd-8d5833a76fe3",
   "metadata": {},
   "outputs": [],
   "source": [
    "z_lens_vals = z_lens_dist.rvs(n_obj)\n",
    "z_source_vals = z_source_dist.rvs(n_obj)\n",
    "mask = z_source_vals - z_lens_vals > 0.1\n",
    "z_lens_vals = z_lens_vals[mask]\n",
    "z_source_vals = z_source_vals[mask]"
   ]
  },
  {
   "cell_type": "code",
   "execution_count": null,
   "id": "9192efe3-9c41-4e3f-9366-e82042e400dc",
   "metadata": {},
   "outputs": [],
   "source": [
    "_ = plt.hist(z_lens_vals, bins=np.linspace(0, 6, 121), alpha=0.6, label=\"lens\")\n",
    "_ = plt.hist(z_source_vals, bins=np.linspace(0, 6, 121), alpha=0.6, label=\"source\")\n",
    "_ = plt.xlabel('z')\n",
    "_ = plt.ylabel(\"Objects / [0.05]\")"
   ]
  },
  {
   "cell_type": "code",
   "execution_count": null,
   "id": "3bb552cb-8fec-4b0e-b9df-79c15d46320c",
   "metadata": {},
   "outputs": [],
   "source": [
    "_ = plt.scatter(z_lens_vals, z_source_vals)\n",
    "_ = plt.xlim(0, 4)\n",
    "_ = plt.ylim(0, 4)\n",
    "_ = plt.xlabel(r\"$z_{d}$\")\n",
    "_ = plt.ylabel(r\"$z_{s}$\")"
   ]
  },
  {
   "cell_type": "code",
   "execution_count": null,
   "id": "749ea1d8-16b9-4437-966f-be6d674a507f",
   "metadata": {},
   "outputs": [],
   "source": [
    "def z_to_a(z: np.ndarray) -> np.ndarray:\n",
    "    return 1/(1+z)\n",
    "\n",
    "def a_to_z(a: np.ndarray) -> np.ndarray:\n",
    "    return 1/(1-a)\n",
    "    \n",
    "def ratio(cosmo, z_d: np.ndarray, z_s: np.ndarray) -> np.ndarray:\n",
    "    a_d = z_to_a(z_d)\n",
    "    a_s = z_to_a(z_s)\n",
    "    chi_d = cosmo.comoving_radial_distance(a_d.ravel()).reshape(a_d.shape)\n",
    "    chi_s = cosmo.comoving_radial_distance(a_s.ravel()).reshape(a_s.shape)\n",
    "    chi_l = chi_s - chi_d\n",
    "    rat = (1 + (chi_d/chi_l))/a_s\n",
    "    return np.where(z_s-z_d>0.2, rat, 0)\n",
    "\n",
    "def chiRatio(cosmo, z_d: np.ndarray, z_s: np.ndarray) -> np.ndarray:\n",
    "    a_d = z_to_a(z_d)\n",
    "    a_s = z_to_a(z_s)\n",
    "    chi_d = cosmo.comoving_radial_distance(a_d.ravel()).reshape(a_d.shape)\n",
    "    chi_s = cosmo.comoving_radial_distance(a_s.ravel()).reshape(a_s.shape)\n",
    "    rat = chi_d/chi_s\n",
    "    return np.where(z_s-z_d>0.2, rat, 0)"
   ]
  },
  {
   "cell_type": "code",
   "execution_count": null,
   "id": "dc24a8cb-183c-4afc-976b-c8ceaa1c6774",
   "metadata": {},
   "outputs": [],
   "source": [
    "vals = chiRatio(cosmo, z_lens_vals, z_source_vals)\n",
    "vals_no_lambda = chiRatio(cosmo_no_lambda, z_lens_vals, z_source_vals)\n",
    "vals_wowa = chiRatio(cosmo_w0wa, z_lens_vals, z_source_vals)\n",
    "\n",
    "scatter = np.random.normal(0, 0.05, size=len(z_source_vals))"
   ]
  },
  {
   "cell_type": "code",
   "execution_count": null,
   "id": "a1484b21-fcd1-4bf8-b3f0-0520615936cc",
   "metadata": {},
   "outputs": [],
   "source": [
    "vals_meas = vals*(1+scatter)\n",
    "vals_meas_wowa = vals_wowa*(1+scatter)"
   ]
  },
  {
   "cell_type": "code",
   "execution_count": null,
   "id": "14b72e14-2fb2-4b08-b95f-03d4633bf877",
   "metadata": {},
   "outputs": [],
   "source": [
    "_ = plt.scatter(z_lens_vals, z_source_vals, c=vals_meas, norm='log')\n",
    "_ = plt.xlim(0, 4)\n",
    "_ = plt.ylim(0, 4)\n",
    "_ = plt.colorbar()"
   ]
  },
  {
   "cell_type": "code",
   "execution_count": null,
   "id": "afcc54c1-b33b-4093-bab5-7b86b04eb3c9",
   "metadata": {},
   "outputs": [],
   "source": [
    "max_abs = np.fabs(vals_meas-vals_no_lambda).max()\n",
    "_ = plt.scatter(z_lens_vals, z_source_vals, c=vals_meas-vals, s=4, vmin=-max_abs, vmax=max_abs)\n",
    "_ = plt.xlim(0, 4)\n",
    "_ = plt.ylim(0, 4)\n",
    "_ = plt.colorbar()"
   ]
  },
  {
   "cell_type": "code",
   "execution_count": null,
   "id": "6680db6a-4a44-4057-aecd-0e105a74c346",
   "metadata": {},
   "outputs": [],
   "source": [
    "max_abs = np.fabs(vals_meas-vals_no_lambda).max()\n",
    "_ = plt.scatter(z_lens_vals, z_source_vals, c=vals_meas-vals_no_lambda, s=5, vmin=-max_abs, vmax=max_abs)\n",
    "_ = plt.xlim(0, 4)\n",
    "_ = plt.ylim(0, 4)\n",
    "_ = plt.colorbar()"
   ]
  },
  {
   "cell_type": "code",
   "execution_count": null,
   "id": "201347c0-86f9-4b97-b332-39272e61677b",
   "metadata": {},
   "outputs": [],
   "source": [
    "max_abs = np.fabs(vals_meas_wowa-vals).max()\n",
    "_ = plt.scatter(z_lens_vals, z_source_vals, c=vals_meas_wowa-vals, s=5) #, vmin=-max_abs, vmax=max_abs)\n",
    "_ = plt.xlim(0, 4)\n",
    "_ = plt.ylim(0, 4)\n",
    "_ = plt.colorbar()"
   ]
  },
  {
   "cell_type": "code",
   "execution_count": null,
   "id": "53b7b856-66dc-4b7f-a427-2591e93535da",
   "metadata": {},
   "outputs": [],
   "source": [
    "z_grid = np.linspace(0, 4, 401)\n",
    "mesh = np.meshgrid(z_grid, z_grid)\n",
    "r = ratio(cosmo, mesh[0], mesh[1])"
   ]
  },
  {
   "cell_type": "code",
   "execution_count": null,
   "id": "bf33417a-d085-49a9-a32c-603cae932d2d",
   "metadata": {},
   "outputs": [],
   "source": [
    "_ = plt.imshow(r, origin='lower', norm='log', extent=(z_grid[0], z_grid[-1], z_grid[0], z_grid[-1]), vmax=250)\n",
    "_ = plt.colorbar(label=r\"$D_{\\Delta T}/D_{D}$\")\n",
    "_ = plt.xlabel(r'$z_{\\rm d}$')\n",
    "_ = plt.ylabel(r'$z_{\\rm s}$')\n",
    "_ = plt.title(r'$\\Lambda CDM$')"
   ]
  },
  {
   "cell_type": "code",
   "execution_count": null,
   "id": "7016ee4e-b90b-4fe1-9c46-bf82fd5b9803",
   "metadata": {},
   "outputs": [],
   "source": []
  },
  {
   "cell_type": "code",
   "execution_count": null,
   "id": "f2b389ff-ab69-4620-8516-4c567a4078ab",
   "metadata": {},
   "outputs": [],
   "source": []
  }
 ],
 "metadata": {
  "kernelspec": {
   "display_name": "Python 3 (ipykernel)",
   "language": "python",
   "name": "python3"
  },
  "language_info": {
   "codemirror_mode": {
    "name": "ipython",
    "version": 3
   },
   "file_extension": ".py",
   "mimetype": "text/x-python",
   "name": "python",
   "nbconvert_exporter": "python",
   "pygments_lexer": "ipython3",
   "version": "3.12.11"
  }
 },
 "nbformat": 4,
 "nbformat_minor": 5
}
