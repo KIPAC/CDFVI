{
 "cells": [
  {
   "cell_type": "code",
   "execution_count": null,
   "id": "8eaf8bda-f145-4f68-9d32-8ddb5f69b15e",
   "metadata": {},
   "outputs": [],
   "source": [
    "import numpy as np\n",
    "import matplotlib.pyplot as plt\n",
    "import pyccl as ccl"
   ]
  },
  {
   "cell_type": "code",
   "execution_count": null,
   "id": "b1c09493-7014-4442-b0fc-5a43d5671fdf",
   "metadata": {},
   "outputs": [],
   "source": [
    "cosmo = ccl.Cosmology(\n",
    "    Omega_c=0.25, Omega_b=0.05,\n",
    "    h=0.7, n_s=0.95, sigma8=0.8,\n",
    "    transfer_function='bbks'\n",
    ")\n",
    "\n",
    "cosmo_no_lambda = ccl.Cosmology(\n",
    "    Omega_c=0.25, Omega_b=0.05,\n",
    "    w0 = 0., wa = 0,\n",
    "    h=0.7, n_s=0.95, sigma8=0.8,\n",
    "    transfer_function='bbks'\n",
    ")\n",
    "\n",
    "cosmo_no_lambda_v2 = ccl.Cosmology(\n",
    "    Omega_c=0.94, Omega_b=0.05,\n",
    "    h=0.7, n_s=0.95, sigma8=0.8,\n",
    "    transfer_function='bbks'\n",
    ")\n",
    "\n",
    "cosmo_w0wa = ccl.Cosmology(\n",
    "    Omega_c=0.25, Omega_b=0.05,\n",
    "    w0=-0.8, wa=-1.0,\n",
    "    h=0.7, n_s=0.95, sigma8=0.8,\n",
    "    transfer_function='bbks'\n",
    ")\n"
   ]
  },
  {
   "cell_type": "code",
   "execution_count": null,
   "id": "c60b970a-8592-49f6-8e2c-f3742075fb77",
   "metadata": {},
   "outputs": [],
   "source": [
    "zmin = 0.01\n",
    "zmax = 3\n",
    "nzBins = 300"
   ]
  },
  {
   "cell_type": "code",
   "execution_count": null,
   "id": "00d3fcd5-5978-4e02-aec4-a371c82585ff",
   "metadata": {},
   "outputs": [],
   "source": [
    "def z_to_a(z: np.ndarray) -> np.ndarray:\n",
    "    return 1/(1+z)\n",
    "\n",
    "def a_to_z(a: np.ndarray) -> np.ndarray:\n",
    "    return 1/(1-a)"
   ]
  },
  {
   "cell_type": "code",
   "execution_count": null,
   "id": "605366a7-8e75-4867-bcff-63048a3dce4c",
   "metadata": {},
   "outputs": [],
   "source": [
    "z_grid = np.linspace(zmin, zmax, nzBins)\n",
    "a_grid = z_to_a(z_grid)"
   ]
  },
  {
   "cell_type": "code",
   "execution_count": null,
   "id": "4fe76059-be02-4f63-8c4c-94b78bacb13d",
   "metadata": {},
   "outputs": [],
   "source": [
    "_ = plt.plot(z_grid, cosmo.comoving_radial_distance(a_grid), label='LCDM')\n",
    "_ = plt.plot(z_grid, cosmo_w0wa.comoving_radial_distance(a_grid), label='w0wa')\n",
    "_ = plt.plot(z_grid, cosmo_no_lambda.comoving_radial_distance(a_grid), label='wo = 0')\n",
    "_ = plt.plot(z_grid, cosmo_no_lambda_v2.comoving_radial_distance(a_grid), label='omega_b = 0.94')\n",
    "\n",
    "_ = plt.legend()\n"
   ]
  },
  {
   "cell_type": "code",
   "execution_count": null,
   "id": "299c683a-dbb9-48df-b1d3-488c4261abdf",
   "metadata": {},
   "outputs": [],
   "source": [
    "_ = plt.plot(z_grid, cosmo.h_over_h0(a_grid), label='LCDM')\n",
    "_ = plt.plot(z_grid, cosmo_w0wa.h_over_h0(a_grid), label='w0wa')\n",
    "_ = plt.plot(z_grid, cosmo_no_lambda.h_over_h0(a_grid), label='wo = 0')\n",
    "_ = plt.plot(z_grid, cosmo_no_lambda_v2.h_over_h0(a_grid), label='omega_b = 0.94')\n",
    "\n",
    "_ = plt.legend()"
   ]
  },
  {
   "cell_type": "code",
   "execution_count": null,
   "id": "f9bcfe10-2da9-4233-b2b7-6556178291dc",
   "metadata": {},
   "outputs": [],
   "source": [
    "_ = plt.plot(z_grid, cosmo_w0wa.h_over_h0(a_grid)/cosmo.h_over_h0(a_grid), label='wowa / LCDM')\n",
    "_ = plt.plot(z_grid, cosmo.h_over_h0(a_grid)/cosmo_no_lambda.h_over_h0(a_grid), label='LCDM / wo = 0')\n",
    "_ = plt.legend()\n"
   ]
  },
  {
   "cell_type": "code",
   "execution_count": null,
   "id": "0a955909-a0bb-468a-8539-074d71a5a4d2",
   "metadata": {},
   "outputs": [],
   "source": [
    "mesh = np.meshgrid(z_grid, z_grid)"
   ]
  },
  {
   "cell_type": "code",
   "execution_count": null,
   "id": "618cad8c-668f-4b66-9dd8-df7485e0034b",
   "metadata": {},
   "outputs": [],
   "source": [
    "def generalized_sin(x: np.ndarray, K: float=0) -> np.ndarray:\n",
    "    scaleK = np.sqrt(np.fabs(K))\n",
    "    if K < 0:\n",
    "        return np.sin(scaleK*x)/scaleK\n",
    "    elif K > 0:\n",
    "        return np.sinh(scaleK*x)/scaleK\n",
    "    return x\n",
    "\n",
    "def generalized_cos(x: np.ndarray, K: float=0) -> np.ndarray:\n",
    "    scaleK = np.sqrt(np.fabs(K))\n",
    "    if K < 0:\n",
    "        return np.cos(scaleK*x)/scaleK\n",
    "    elif K > 0:\n",
    "        return np.cosh(scaleK*x)/scaleK\n",
    "    return np.ones(len(x))\n",
    "\n",
    "def generalized_cot(x: np.ndarray, K: float=0) -> np.ndarray:\n",
    "    scaleK = np.sqrt(np.fabs(K))\n",
    "    if K < 0:\n",
    "        return scaleK/np.tan(scaleK*x)\n",
    "    elif K > 0:\n",
    "        return scaleK/np.tanh(scaleK*x)\n",
    "    return np.ones(len(x))\n",
    "\n"
   ]
  },
  {
   "cell_type": "code",
   "execution_count": null,
   "id": "1f159da4-434c-4693-8432-1e75fda98c59",
   "metadata": {},
   "outputs": [],
   "source": [
    "def ratio(cosmo, z_d: np.ndarray, z_s: np.ndarray) -> np.ndarray:\n",
    "    a_d = z_to_a(z_d)\n",
    "    a_s = z_to_a(z_s)\n",
    "    chi_d = cosmo.comoving_radial_distance(a_d.ravel()).reshape(a_d.shape)\n",
    "    chi_s = cosmo.comoving_radial_distance(a_s.ravel()).reshape(a_s.shape)\n",
    "    rat = (1 + (chi_d/chi_l))/a_s\n",
    "    return np.where(z_s-z_d>0.2, rat, 0)"
   ]
  },
  {
   "cell_type": "code",
   "execution_count": null,
   "id": "cd61f998-f3ec-4b3a-a835-53fdef3041cc",
   "metadata": {},
   "outputs": [],
   "source": [
    "z_d = mesh[0]\n",
    "z_s = mesh[1]\n",
    "a_d = z_to_a(z_d)\n",
    "a_s = z_to_a(z_s)\n",
    "chi_d = cosmo_no_lambda.comoving_radial_distance(a_d.ravel()).reshape(a_d.shape)\n",
    "chi_s = cosmo_no_lambda.comoving_radial_distance(a_s.ravel()).reshape(a_s.shape)\n",
    "chi_l = chi_s - chi_d\n",
    "rat_chi = chi_d/chi_l"
   ]
  },
  {
   "cell_type": "code",
   "execution_count": null,
   "id": "ca8bdf1a-77cb-44af-873f-8f93dd42dafa",
   "metadata": {},
   "outputs": [],
   "source": [
    "_ = plt.plot(z_grid, cosmo_w0wa.comoving_radial_distance(a_grid)/cosmo.comoving_radial_distance(a_grid))\n",
    "_ = plt.xlabel('z')\n",
    "_ = plt.ylabel(r\"$\\chi_{wowa} / \\chi_{\\Lambda CDM}$\")"
   ]
  },
  {
   "cell_type": "code",
   "execution_count": null,
   "id": "a1de4df8-3630-4cc0-9da6-72150eb1215a",
   "metadata": {},
   "outputs": [],
   "source": [
    "r = ratio(cosmo, mesh[0], mesh[1])\n",
    "r1 = ratio(cosmo_no_lambda, mesh[0], mesh[1])\n",
    "rw = ratio(cosmo_w0wa, mesh[0], mesh[1])"
   ]
  },
  {
   "cell_type": "code",
   "execution_count": null,
   "id": "2aa67588-ffc1-49d2-9d69-96be74df7a3d",
   "metadata": {},
   "outputs": [],
   "source": [
    "_ = plt.imshow(r, origin='lower', norm='log', extent=(z_grid[0], z_grid[-1], z_grid[0], z_grid[-1]))\n",
    "_ = plt.colorbar(label=r\"$D_{\\Delta T}/D_{D}$\")\n",
    "_ = plt.xlabel(r'$z_{\\rm d}$')\n",
    "_ = plt.ylabel(r'$z_{\\rm s}$')\n",
    "_ = plt.title(r'$\\Lambda CDM$')"
   ]
  },
  {
   "cell_type": "code",
   "execution_count": null,
   "id": "d381b94b-c908-4e1d-b715-b09e102c192a",
   "metadata": {},
   "outputs": [],
   "source": [
    "_ = plt.imshow(r1, origin='lower', norm='log', extent=(z_grid[0], z_grid[-1], z_grid[0], z_grid[-1]))\n",
    "_ = plt.colorbar(label=r\"$D_{\\Delta T}/D_{D}$\")\n",
    "_ = plt.xlabel(r'$z_{\\rm d}$')\n",
    "_ = plt.ylabel(r'$z_{\\rm s}$')\n",
    "_ = plt.title(r'CDM Only')"
   ]
  },
  {
   "cell_type": "code",
   "execution_count": null,
   "id": "dd187bcc-3bf0-4871-8449-d8fce034ffe5",
   "metadata": {},
   "outputs": [],
   "source": [
    "_ = plt.imshow(rw, origin='lower', norm='log', extent=(z_grid[0], z_grid[-1], z_grid[0], z_grid[-1]))\n",
    "_ = plt.colorbar(label=r\"$D_{\\Delta T}/D_{D}$\")\n",
    "_ = plt.xlabel(r'$z_{\\rm d}$')\n",
    "_ = plt.ylabel(r'$z_{\\rm s}$')\n",
    "_ = plt.title(r'$w_{0}w_{a}$')"
   ]
  },
  {
   "cell_type": "code",
   "execution_count": null,
   "id": "116f7bb0-0210-4d40-9c2d-6730986ac794",
   "metadata": {},
   "outputs": [],
   "source": [
    "_ = plt.imshow((r/r1).clip(0.,5.0), origin='lower', extent=(z_grid[0], z_grid[-1], z_grid[0], z_grid[-1]))\n",
    "_ = plt.colorbar(label=r\"R $D_{\\Delta T}/D_{D}$\")\n",
    "_ = plt.xlabel(r'$z_{\\rm d}$')\n",
    "_ = plt.ylabel(r'$z_{\\rm s}$')\n",
    "_ = plt.title(r'$\\Lambda CDM$ / CDM Only')"
   ]
  },
  {
   "cell_type": "code",
   "execution_count": null,
   "id": "e9b8660d-0523-40c7-9e65-0ad030d6b2d5",
   "metadata": {},
   "outputs": [],
   "source": [
    "_ = plt.imshow((rw/r).clip(0.,5.0), origin='lower', extent=(z_grid[0], z_grid[-1], z_grid[0], z_grid[-1]))\n",
    "_ = plt.colorbar(label=r\"R $D_{\\Delta T}/D_{D}$\")\n",
    "_ = plt.xlabel(r'$z_{\\rm d}$')\n",
    "_ = plt.ylabel(r'$z_{\\rm s}$')\n",
    "_ = plt.title(r'$w_{0}w_{a} / \\Lambda CDM$')"
   ]
  },
  {
   "cell_type": "code",
   "execution_count": null,
   "id": "782ff605-ee05-4d82-8511-e7d547c36856",
   "metadata": {},
   "outputs": [],
   "source": []
  },
  {
   "cell_type": "code",
   "execution_count": null,
   "id": "d38a50a1-45e9-4897-b624-884a61b124b5",
   "metadata": {},
   "outputs": [],
   "source": []
  }
 ],
 "metadata": {
  "kernelspec": {
   "display_name": "Python 3 (ipykernel)",
   "language": "python",
   "name": "python3"
  },
  "language_info": {
   "codemirror_mode": {
    "name": "ipython",
    "version": 3
   },
   "file_extension": ".py",
   "mimetype": "text/x-python",
   "name": "python",
   "nbconvert_exporter": "python",
   "pygments_lexer": "ipython3",
   "version": "3.12.11"
  }
 },
 "nbformat": 4,
 "nbformat_minor": 5
}
