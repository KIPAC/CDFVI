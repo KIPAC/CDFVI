{
 "cells": [
  {
   "cell_type": "code",
   "execution_count": null,
   "id": "511b8bd5-aea6-4120-85d8-2207e4d7478d",
   "metadata": {},
   "outputs": [],
   "source": [
    "import numpy as np\n",
    "import matplotlib.pyplot as plt\n",
    "import pyccl as ccl\n",
    "import scipy\n",
    "from cdfvi import funcs"
   ]
  },
  {
   "cell_type": "code",
   "execution_count": null,
   "id": "fb7a126a-7add-4891-b8d2-3761fc3903df",
   "metadata": {},
   "outputs": [],
   "source": [
    "cosmo = ccl.Cosmology(\n",
    "    Omega_c=0.25, Omega_b=0.05,\n",
    "    h=0.7, n_s=0.95, sigma8=0.8,\n",
    "    transfer_function='bbks'\n",
    ")\n",
    "\n",
    "cosmo_no_lambda = ccl.Cosmology(\n",
    "    Omega_c=0.25, Omega_b=0.05,\n",
    "    w0 = 0., wa = 0,\n",
    "    h=0.7, n_s=0.95, sigma8=0.8,\n",
    "    transfer_function='bbks'\n",
    ")\n",
    "\n",
    "cosmo_no_lambda_v2 = ccl.Cosmology(\n",
    "    Omega_c=0.94, Omega_b=0.05,\n",
    "    h=0.7, n_s=0.95, sigma8=0.8,\n",
    "    transfer_function='bbks'\n",
    ")\n",
    "\n",
    "cosmo_w0wa = ccl.Cosmology(\n",
    "    Omega_c=0.25, Omega_b=0.05,\n",
    "    w0=-0.8, wa=-1.0,\n",
    "    h=0.7, n_s=0.95, sigma8=0.8,\n",
    "    transfer_function='bbks'\n",
    ")\n"
   ]
  },
  {
   "cell_type": "code",
   "execution_count": null,
   "id": "1b6ae011-6d3f-43ab-bf47-3ceb683f67fd",
   "metadata": {},
   "outputs": [],
   "source": [
    "sim_vals = dict(\n",
    "    n_obj = 1200,\n",
    "    z_lens_mean = 0.74,\n",
    "    z_lens_scale = 0.49,\n",
    "    z_source_mean = 2.31,\n",
    "    z_source_scale = 0.45,\n",
    ")"
   ]
  },
  {
   "cell_type": "code",
   "execution_count": null,
   "id": "98b50323-0c49-42e0-ab09-3d05f30c3fd4",
   "metadata": {},
   "outputs": [],
   "source": [
    "sims = funcs.simulate_lens_systems(**sim_vals)\n",
    "z_source_vals = sims.z_source.to_numpy()\n",
    "z_lens_vals = sims.z_lens.to_numpy()"
   ]
  },
  {
   "cell_type": "code",
   "execution_count": null,
   "id": "aae30e38-d108-4a84-8df9-2894c2b52c06",
   "metadata": {},
   "outputs": [],
   "source": [
    "vals = funcs.R_flat(cosmo, z_lens_vals, z_source_vals)\n",
    "vals_no_lambda = funcs.R_flat(cosmo_no_lambda, z_lens_vals, z_source_vals)\n",
    "vals_wowa = funcs.R_flat(cosmo_w0wa, z_lens_vals, z_source_vals)\n",
    "\n",
    "err_level = 0.05\n",
    "scatter = np.random.normal(0, err_level, size=len(z_source_vals))\n",
    "errs = vals*err_level\n",
    "errs_no_lambda = vals_no_lambda*err_level\n",
    "errs_wowa = vals_wowa*err_level"
   ]
  },
  {
   "cell_type": "code",
   "execution_count": null,
   "id": "bf1697d1-7f84-408d-9423-89c62d3653c6",
   "metadata": {},
   "outputs": [],
   "source": [
    "_ = plt.errorbar(z_lens_vals, vals, errs, marker='.', ls=\"\")\n",
    "_ = plt.xlabel(r\"$z_{d}$\")\n",
    "_ = plt.ylabel(r\"$R_{ds} \\equiv \\frac{\\chi_{d}}{\\chi_{s}}$\")\n",
    "_ = plt.xlim(0, 2.5)\n",
    "_ = plt.ylim(0, 1.1)"
   ]
  },
  {
   "cell_type": "code",
   "execution_count": null,
   "id": "39b1098f-e7e3-4cde-b3bd-c9aaad2084c9",
   "metadata": {},
   "outputs": [],
   "source": [
    "bin_edges = np.logspace(-0.10, 0.5, 10)\n",
    "for bin_low, bin_hi in zip(bin_edges[0:-1], bin_edges[1:]):\n",
    "    source_mask = np.bitwise_and(z_source_vals > bin_low, z_source_vals <= bin_hi)\n",
    "    _ = plt.errorbar(\n",
    "        z_lens_vals[source_mask],\n",
    "        vals[source_mask], \n",
    "        errs[source_mask],\n",
    "        marker='.',\n",
    "        ls=\"\", \n",
    "        label=f\"z_s {bin_low:.2f} - {bin_hi:.2f}\",\n",
    "        alpha=0.4,\n",
    "    )\n",
    "_ = plt.xlabel(r\"$z_{d}$\")\n",
    "_ = plt.ylabel(r\"$R_{ds} \\equiv \\frac{\\chi_{d}}{\\chi_{s}}$\")    \n",
    "_ = plt.xlim(0, 2.5)\n",
    "_ = plt.ylim(0, 1.1)\n",
    "_ = plt.legend()"
   ]
  },
  {
   "cell_type": "code",
   "execution_count": null,
   "id": "18219566-5bc9-4208-a75a-2a911e5665a2",
   "metadata": {},
   "outputs": [],
   "source": []
  },
  {
   "cell_type": "code",
   "execution_count": null,
   "id": "9bbba3d8-47d8-4ccd-b950-5d38147b1064",
   "metadata": {},
   "outputs": [],
   "source": []
  }
 ],
 "metadata": {
  "kernelspec": {
   "display_name": "Python 3 (ipykernel)",
   "language": "python",
   "name": "python3"
  },
  "language_info": {
   "codemirror_mode": {
    "name": "ipython",
    "version": 3
   },
   "file_extension": ".py",
   "mimetype": "text/x-python",
   "name": "python",
   "nbconvert_exporter": "python",
   "pygments_lexer": "ipython3",
   "version": "3.12.11"
  }
 },
 "nbformat": 4,
 "nbformat_minor": 5
}
