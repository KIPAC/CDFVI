{
 "cells": [
  {
   "cell_type": "markdown",
   "id": "885eb9ac-63e1-47bf-a839-d7e66e588745",
   "metadata": {},
   "source": [
    "## Notebook to demonstrate some CDFVI functionality"
   ]
  },
  {
   "cell_type": "markdown",
   "id": "29464b44-15e1-4089-8792-a5c0268fa60a",
   "metadata": {},
   "source": [
    "#### Standard imports"
   ]
  },
  {
   "cell_type": "code",
   "execution_count": null,
   "id": "8eaf8bda-f145-4f68-9d32-8ddb5f69b15e",
   "metadata": {},
   "outputs": [],
   "source": [
    "import numpy as np\n",
    "import matplotlib.pyplot as plt\n",
    "import pyccl as ccl\n",
    "from cdfvi import funcs"
   ]
  },
  {
   "cell_type": "markdown",
   "id": "48470427-8c9c-47ee-8dbe-506e4ea541ee",
   "metadata": {},
   "source": [
    "#### Let's set up some cosmologies"
   ]
  },
  {
   "cell_type": "code",
   "execution_count": null,
   "id": "b1c09493-7014-4442-b0fc-5a43d5671fdf",
   "metadata": {},
   "outputs": [],
   "source": [
    "cosmo = ccl.Cosmology(\n",
    "    Omega_c=0.25, Omega_b=0.05,\n",
    "    h=0.7, n_s=0.95, sigma8=0.8,\n",
    "    transfer_function='bbks'\n",
    ")\n",
    "\n",
    "cosmo_no_lambda = ccl.Cosmology(\n",
    "    Omega_c=0.25, Omega_b=0.05,\n",
    "    w0 = 0., wa = 0,\n",
    "    h=0.7, n_s=0.95, sigma8=0.8,\n",
    "    transfer_function='bbks'\n",
    ")\n",
    "\n",
    "cosmo_w0wa = ccl.Cosmology(\n",
    "    Omega_c=0.25, Omega_b=0.05,\n",
    "    w0=-0.8, wa=-1.0,\n",
    "    h=0.7, n_s=0.95, sigma8=0.8,\n",
    "    transfer_function='bbks'\n",
    ")\n"
   ]
  },
  {
   "cell_type": "markdown",
   "id": "a892ca1d-040b-4168-9186-f09c16619cff",
   "metadata": {},
   "source": [
    "#### Set up the evaluation grid"
   ]
  },
  {
   "cell_type": "code",
   "execution_count": null,
   "id": "605366a7-8e75-4867-bcff-63048a3dce4c",
   "metadata": {},
   "outputs": [],
   "source": [
    "zmin = 0.01\n",
    "zmax = 6\n",
    "nzBins = 300\n",
    "z_grid = np.linspace(zmin, zmax, nzBins)\n",
    "z_widths = z_grid[1:] - z_grid[0:-1]\n",
    "a_grid = funcs.z_to_a(z_grid)"
   ]
  },
  {
   "cell_type": "markdown",
   "id": "6ad7c4c5-fc58-4d9c-9c73-af87c490106a",
   "metadata": {},
   "source": [
    "#### Lets plot $\\chi(z)$, the comoving radial distance, for three different cosmologies"
   ]
  },
  {
   "cell_type": "code",
   "execution_count": null,
   "id": "4fe76059-be02-4f63-8c4c-94b78bacb13d",
   "metadata": {},
   "outputs": [],
   "source": [
    "_ = plt.plot(z_grid, cosmo.comoving_radial_distance(a_grid)/1000., label='LCDM')\n",
    "_ = plt.plot(z_grid, cosmo_w0wa.comoving_radial_distance(a_grid)/1000., label='w0wa')\n",
    "_ = plt.plot(z_grid, cosmo_no_lambda.comoving_radial_distance(a_grid)/1000., label='CDM')\n",
    "_ = plt.legend()\n",
    "_ = plt.xlabel('z')\n",
    "_ = plt.ylabel('Gpc')"
   ]
  },
  {
   "cell_type": "code",
   "execution_count": null,
   "id": "f06a1013-d6fd-4d9a-9480-677e74cabcfd",
   "metadata": {},
   "outputs": [],
   "source": [
    "cosmo.h = 0.7\n",
    "_ = plt.plot(z_grid, cosmo.comoving_radial_distance(a_grid)/1000., label='LCDM')\n",
    "cosmo.h = 0.8\n",
    "_ = plt.plot(z_grid, cosmo.comoving_radial_distance(a_grid)/1000., label='LCDM')"
   ]
  },
  {
   "cell_type": "markdown",
   "id": "37f65503-346b-4d50-b435-dcad1cc2974c",
   "metadata": {},
   "source": [
    "Now let's plot at ratio of comoving distances for different cosmologies"
   ]
  },
  {
   "cell_type": "code",
   "execution_count": null,
   "id": "ca8bdf1a-77cb-44af-873f-8f93dd42dafa",
   "metadata": {},
   "outputs": [],
   "source": [
    "_ = plt.plot(z_grid, cosmo_w0wa.comoving_radial_distance(a_grid)/cosmo.comoving_radial_distance(a_grid))\n",
    "_ = plt.xlabel('z')\n",
    "_ = plt.ylabel(r\"$\\chi_{wowa} / \\chi_{\\Lambda CDM}$\")"
   ]
  },
  {
   "cell_type": "markdown",
   "id": "c1b7481c-7295-4e1a-b13c-63f52bfc62d0",
   "metadata": {},
   "source": [
    "#### Let's plot the integral $ \\int_0^z \\frac{1}{E(z')} dz'$ those cosmologies.\n",
    "\n",
    "Note that the shape is exactly the same, the different that the y-axis is dimensional"
   ]
  },
  {
   "cell_type": "code",
   "execution_count": null,
   "id": "d1ab57c2-33e5-4507-8fc5-55a4b300d9c1",
   "metadata": {},
   "outputs": [],
   "source": [
    "_ = plt.plot(z_grid[1:], funcs.j_integral_simple(cosmo, z_grid), label=\"LCDM\")\n",
    "_ = plt.plot(z_grid[1:], funcs.j_integral_simple(cosmo_w0wa, z_grid), label=\"w0wa\")\n",
    "_ = plt.plot(z_grid[1:], funcs.j_integral_simple(cosmo_no_lambda, z_grid), label='wo = 0')\n",
    "_ = plt.legend()\n",
    "_ = plt.xlabel('z')\n",
    "_ = plt.ylabel(r\"$I(z) = \\int_0^z \\frac{1}{E(z')} dz$\")"
   ]
  },
  {
   "cell_type": "markdown",
   "id": "354bc790-46df-4b9b-a717-cd52cd38b8ac",
   "metadata": {},
   "source": [
    "#### Now lets plot the ratio of that integral for two different cosmologies\n",
    "\n",
    "Note that this is exactly the same as the ratio of comoving distances"
   ]
  },
  {
   "cell_type": "code",
   "execution_count": null,
   "id": "fea51629-1477-49b3-ac72-053a4beadba2",
   "metadata": {},
   "outputs": [],
   "source": [
    "_ = plt.plot(z_grid[1:], funcs.j_integral_ratio(cosmo_w0wa, cosmo, z_grid), label=\"LCDM\")\n",
    "_ = plt.xlabel(\"z\")\n",
    "_ = plt.ylabel(r\"$I_{w_{0}w_{a}} / I_{\\Lambda CDM}$\")"
   ]
  },
  {
   "cell_type": "code",
   "execution_count": null,
   "id": "299c683a-dbb9-48df-b1d3-488c4261abdf",
   "metadata": {},
   "outputs": [],
   "source": [
    "_ = plt.plot(z_grid, cosmo.h_over_h0(a_grid), label='LCDM')\n",
    "_ = plt.plot(z_grid, cosmo_w0wa.h_over_h0(a_grid), label='w0wa')\n",
    "_ = plt.plot(z_grid, cosmo_no_lambda.h_over_h0(a_grid), label='CDM')\n",
    "_ = plt.ylim(0., 20.)\n",
    "_ = plt.ylabel(r\"$H(z) / H_{0}$\")\n",
    "_ = plt.legend()"
   ]
  },
  {
   "cell_type": "code",
   "execution_count": null,
   "id": "f9bcfe10-2da9-4233-b2b7-6556178291dc",
   "metadata": {},
   "outputs": [],
   "source": [
    "_ = plt.plot(z_grid, cosmo_w0wa.h_over_h0(a_grid)/cosmo.h_over_h0(a_grid), label='wowa / LCDM')\n",
    "_ = plt.plot(z_grid, cosmo.h_over_h0(a_grid)/cosmo_no_lambda.h_over_h0(a_grid), label='LCDM / CDM')\n",
    "_ = plt.legend()\n",
    "_ = plt.ylabel(r\"$H_{1}(z) / H_{2}(z)$\")\n",
    "_ = plt.xlabel(\"z\")"
   ]
  },
  {
   "cell_type": "code",
   "execution_count": null,
   "id": "e73afe5b-dae4-45c5-9e6a-1bcb7d38a263",
   "metadata": {},
   "outputs": [],
   "source": []
  },
  {
   "cell_type": "code",
   "execution_count": null,
   "id": "0a955909-a0bb-468a-8539-074d71a5a4d2",
   "metadata": {},
   "outputs": [],
   "source": [
    "mesh = np.meshgrid(z_grid, z_grid)"
   ]
  },
  {
   "cell_type": "code",
   "execution_count": null,
   "id": "161f8ae1-1f42-49d2-a1ba-2c35a621c780",
   "metadata": {},
   "outputs": [],
   "source": []
  },
  {
   "cell_type": "code",
   "execution_count": null,
   "id": "cd61f998-f3ec-4b3a-a835-53fdef3041cc",
   "metadata": {},
   "outputs": [],
   "source": [
    "z_d = mesh[0]\n",
    "z_s = mesh[1]\n",
    "a_d = funcs.z_to_a(z_d)\n",
    "a_s = funcs.z_to_a(z_s)\n",
    "chi_d = cosmo_no_lambda.comoving_radial_distance(a_d.ravel()).reshape(a_d.shape)\n",
    "chi_s = cosmo_no_lambda.comoving_radial_distance(a_s.ravel()).reshape(a_s.shape)\n",
    "r_tilde = chi_s / (a_d * (chi_s - chi_d))"
   ]
  },
  {
   "cell_type": "code",
   "execution_count": null,
   "id": "7c08ef70-438a-4cea-a4af-e3c358b5bf00",
   "metadata": {},
   "outputs": [],
   "source": [
    "r = funcs.r_tilde_flat(cosmo, mesh[0], mesh[1])\n",
    "r1 = funcs.r_tilde_flat(cosmo_no_lambda, mesh[0], mesh[1])\n",
    "rw = funcs.r_tilde_flat(cosmo_w0wa, mesh[0], mesh[1])\n",
    "\n",
    "chi_r = funcs.chi_ratio(cosmo, mesh[0], mesh[1])\n",
    "chi_r1 = funcs.chi_ratio(cosmo_no_lambda, mesh[0], mesh[1])\n",
    "chi_rw = funcs.chi_ratio(cosmo_w0wa, mesh[0], mesh[1])\n",
    "\n",
    "R_r = funcs.r_flat(cosmo, mesh[0], mesh[1])\n",
    "R_r1 = funcs.r_flat(cosmo_no_lambda, mesh[0], mesh[1])\n",
    "R_rw = funcs.r_flat(cosmo_w0wa, mesh[0], mesh[1])\n"
   ]
  },
  {
   "cell_type": "code",
   "execution_count": null,
   "id": "021c1855-4b62-412e-ba5d-dc055ae03f03",
   "metadata": {},
   "outputs": [],
   "source": [
    "_ = plt.imshow(R_r, origin='lower', extent=(z_grid[0], z_grid[-1], z_grid[0], z_grid[-1]))\n",
    "_ = plt.colorbar(label=r\"$R_{ds} = \\chi_{d}/\\chi_{s}$\")\n",
    "_ = plt.xlabel(r'$z_{\\rm d}$')\n",
    "_ = plt.ylabel(r'$z_{\\rm s}$')\n",
    "_ = plt.title(r'$\\Lambda CDM$')"
   ]
  },
  {
   "cell_type": "code",
   "execution_count": null,
   "id": "46f5d3e5-d060-47e6-991e-768b2af4f916",
   "metadata": {},
   "outputs": [],
   "source": [
    "_ = plt.imshow(chi_r, origin='lower', extent=(z_grid[0], z_grid[-1], z_grid[0], z_grid[-1]))\n",
    "_ = plt.colorbar(label=r\"$R_{ds} = \\chi_{d}/\\chi_{s}$\")\n",
    "_ = plt.xlabel(r'$z_{\\rm d}$')\n",
    "_ = plt.ylabel(r'$z_{\\rm s}$')\n",
    "_ = plt.title(r'$\\Lambda CDM$')"
   ]
  },
  {
   "cell_type": "code",
   "execution_count": null,
   "id": "f5d2d650-04c7-4c50-bb27-21c6131a851f",
   "metadata": {},
   "outputs": [],
   "source": [
    "_ = plt.imshow(chi_r/chi_r1, origin='lower', extent=(z_grid[0], z_grid[-1], z_grid[0], z_grid[-1]))\n",
    "_ = plt.colorbar(label=r\"$R_{\\Lambda CDM} / R_{CDM}$\")\n",
    "_ = plt.xlabel(r'$z_{\\rm d}$')\n",
    "_ = plt.ylabel(r'$z_{\\rm s}$')\n",
    "_ = plt.title(r'$\\Lambda CDM / CDM$')"
   ]
  },
  {
   "cell_type": "code",
   "execution_count": null,
   "id": "a65b2ed8-4955-444d-8c9b-50aaad96c85a",
   "metadata": {},
   "outputs": [],
   "source": [
    "_ = plt.imshow(chi_rw/chi_r, origin='lower', extent=(z_grid[0], z_grid[-1], z_grid[0], z_grid[-1]))\n",
    "_ = plt.colorbar(label=r\"$R_{w_{0}w_{a}} / R_{\\Lambda CDM}$\")\n",
    "_ = plt.xlabel(r'$z_{\\rm d}$')\n",
    "_ = plt.ylabel(r'$z_{\\rm s}$')\n",
    "_ = plt.title(r'$w_{0}w_{a} / \\Lambda CDM$')"
   ]
  },
  {
   "cell_type": "code",
   "execution_count": null,
   "id": "2aa67588-ffc1-49d2-9d69-96be74df7a3d",
   "metadata": {},
   "outputs": [],
   "source": [
    "_ = plt.imshow(r, origin='lower', extent=(z_grid[0], z_grid[-1], z_grid[0], z_grid[-1]))\n",
    "_ = plt.colorbar(label=r\"$D_{\\Delta T}/D_{D}$\")\n",
    "_ = plt.xlabel(r'$z_{\\rm d}$')\n",
    "_ = plt.ylabel(r'$z_{\\rm s}$')\n",
    "_ = plt.title(r'$\\Lambda CDM$')"
   ]
  },
  {
   "cell_type": "code",
   "execution_count": null,
   "id": "d381b94b-c908-4e1d-b715-b09e102c192a",
   "metadata": {},
   "outputs": [],
   "source": [
    "_ = plt.imshow(r1, origin='lower', extent=(z_grid[0], z_grid[-1], z_grid[0], z_grid[-1]))\n",
    "_ = plt.colorbar(label=r\"$D_{\\Delta T}/D_{D}$\")\n",
    "_ = plt.xlabel(r'$z_{\\rm d}$')\n",
    "_ = plt.ylabel(r'$z_{\\rm s}$')\n",
    "_ = plt.title(r'CDM Only')"
   ]
  },
  {
   "cell_type": "code",
   "execution_count": null,
   "id": "dd187bcc-3bf0-4871-8449-d8fce034ffe5",
   "metadata": {},
   "outputs": [],
   "source": [
    "_ = plt.imshow(rw, origin='lower', extent=(z_grid[0], z_grid[-1], z_grid[0], z_grid[-1]))\n",
    "_ = plt.colorbar(label=r\"$D_{\\Delta T}/D_{D}$\")\n",
    "_ = plt.xlabel(r'$z_{\\rm d}$')\n",
    "_ = plt.ylabel(r'$z_{\\rm s}$')\n",
    "_ = plt.title(r'$w_{0}w_{a}$')"
   ]
  },
  {
   "cell_type": "code",
   "execution_count": null,
   "id": "116f7bb0-0210-4d40-9c2d-6730986ac794",
   "metadata": {},
   "outputs": [],
   "source": [
    "_ = plt.imshow(r/r1, origin='lower', extent=(z_grid[0], z_grid[-1], z_grid[0], z_grid[-1]))\n",
    "_ = plt.colorbar(label=r\"R $D_{\\Delta T}/D_{D}$\")\n",
    "_ = plt.xlabel(r'$z_{\\rm d}$')\n",
    "_ = plt.ylabel(r'$z_{\\rm s}$')\n",
    "_ = plt.title(r'$\\Lambda CDM$ / CDM Only')"
   ]
  },
  {
   "cell_type": "code",
   "execution_count": null,
   "id": "e9b8660d-0523-40c7-9e65-0ad030d6b2d5",
   "metadata": {},
   "outputs": [],
   "source": [
    "_ = plt.imshow(rw/r, origin='lower', extent=(z_grid[0], z_grid[-1], z_grid[0], z_grid[-1]))\n",
    "_ = plt.colorbar(label=r\"R $D_{\\Delta T}/D_{D}$\")\n",
    "_ = plt.xlabel(r'$z_{\\rm d}$')\n",
    "_ = plt.ylabel(r'$z_{\\rm s}$')\n",
    "_ = plt.title(r'$w_{0}w_{a} / \\Lambda CDM$')"
   ]
  },
  {
   "cell_type": "code",
   "execution_count": null,
   "id": "782ff605-ee05-4d82-8511-e7d547c36856",
   "metadata": {},
   "outputs": [],
   "source": []
  },
  {
   "cell_type": "code",
   "execution_count": null,
   "id": "d38a50a1-45e9-4897-b624-884a61b124b5",
   "metadata": {},
   "outputs": [],
   "source": []
  }
 ],
 "metadata": {
  "kernelspec": {
   "display_name": "Python 3 (ipykernel)",
   "language": "python",
   "name": "python3"
  },
  "language_info": {
   "codemirror_mode": {
    "name": "ipython",
    "version": 3
   },
   "file_extension": ".py",
   "mimetype": "text/x-python",
   "name": "python",
   "nbconvert_exporter": "python",
   "pygments_lexer": "ipython3",
   "version": "3.12.11"
  }
 },
 "nbformat": 4,
 "nbformat_minor": 5
}
