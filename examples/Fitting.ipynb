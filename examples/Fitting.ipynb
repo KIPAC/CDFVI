{
 "cells": [
  {
   "cell_type": "markdown",
   "id": "ec5d1eb4-c3f7-4249-9bac-9297791ed958",
   "metadata": {},
   "source": [
    "## Example of fitting some lens systems"
   ]
  },
  {
   "cell_type": "code",
   "execution_count": null,
   "id": "2805810e-0b78-4924-a772-8f6462236d96",
   "metadata": {},
   "outputs": [],
   "source": [
    "import numpy as np\n",
    "import matplotlib.pyplot as plt\n",
    "import pyccl as ccl\n",
    "import scipy\n",
    "import astropy.units as u\n",
    "from cdfvi import funcs, TDCosmoChi2, TDPolyChi2"
   ]
  },
  {
   "cell_type": "code",
   "execution_count": null,
   "id": "56df077a-8b25-49ef-a144-62e502bd760b",
   "metadata": {},
   "outputs": [],
   "source": [
    "cosmo = ccl.Cosmology(\n",
    "    Omega_c=0.25, Omega_b=0.05,\n",
    "    h=0.7, n_s=0.95, sigma8=0.8,\n",
    "    transfer_function='bbks'\n",
    ")\n",
    "\n",
    "cosmo_no_lambda = ccl.Cosmology(\n",
    "    Omega_c=0.25, Omega_b=0.05,\n",
    "    w0 = 0., wa = 0,\n",
    "    h=0.7, n_s=0.95, sigma8=0.8,\n",
    "    transfer_function='bbks'\n",
    ")\n",
    "\n",
    "cosmo_no_lambda_v2 = ccl.Cosmology(\n",
    "    Omega_c=0.94, Omega_b=0.05,\n",
    "    h=0.7, n_s=0.95, sigma8=0.8,\n",
    "    transfer_function='bbks'\n",
    ")\n",
    "\n",
    "cosmo_w0wa = ccl.Cosmology(\n",
    "    Omega_c=0.25, Omega_b=0.05,\n",
    "    w0=-0.8, wa=-1.0,\n",
    "    h=0.7, n_s=0.95, sigma8=0.8,\n",
    "    transfer_function='bbks'\n",
    ")\n"
   ]
  },
  {
   "cell_type": "code",
   "execution_count": null,
   "id": "2ccc8686-39f5-4c31-ad87-3f8f7a85d797",
   "metadata": {},
   "outputs": [],
   "source": [
    "sim_vals = dict(\n",
    "    n_obj = 1200,\n",
    "    z_lens_mean = 0.74,\n",
    "    z_lens_scale = 0.49,\n",
    "    z_source_mean = 2.31,\n",
    "    z_source_scale = 0.45,\n",
    ")"
   ]
  },
  {
   "cell_type": "code",
   "execution_count": null,
   "id": "081650f1-8052-41f7-b653-2eb1a3ec4778",
   "metadata": {},
   "outputs": [],
   "source": [
    "sims = funcs.simulate_lens_systems(**sim_vals)\n",
    "z_source_vals = sims.z_source.to_numpy()\n",
    "z_lens_vals = sims.z_lens.to_numpy()"
   ]
  },
  {
   "cell_type": "code",
   "execution_count": null,
   "id": "e1183190-5640-46c6-82d1-f06e6457774a",
   "metadata": {},
   "outputs": [],
   "source": [
    "R_vals = funcs.r_flat(cosmo, z_lens_vals, z_source_vals)\n",
    "R_vals_no_lambda = funcs.r_flat(cosmo_no_lambda, z_lens_vals, z_source_vals)\n",
    "R_vals_wowa = funcs.r_flat(cosmo_w0wa, z_lens_vals, z_source_vals)\n",
    "\n",
    "err_level = 0.05\n",
    "scatter = np.random.normal(0, err_level, size=len(z_source_vals))\n",
    "R_errs = R_vals*err_level\n",
    "R_errs_no_lambda = R_vals_no_lambda*err_level\n",
    "R_errs_wowa = R_vals_wowa*err_level\n",
    "\n",
    "R_obs = R_vals*(1+scatter)"
   ]
  },
  {
   "cell_type": "code",
   "execution_count": null,
   "id": "a5a51aed-b90d-4719-981c-6e8ae695fd54",
   "metadata": {},
   "outputs": [],
   "source": [
    "zmin = 0.01\n",
    "zmax = 6\n",
    "nzBins = 300\n",
    "z_grid = np.linspace(zmin, zmax, nzBins)\n",
    "z_widths = z_grid[1:] - z_grid[0:-1]\n",
    "a_grid = funcs.z_to_a(z_grid)"
   ]
  },
  {
   "cell_type": "code",
   "execution_count": null,
   "id": "ca181115-3e23-4e5e-b517-b446bad47157",
   "metadata": {},
   "outputs": [],
   "source": [
    "result1d = np.polynomial.Polynomial.fit(z_grid[1:], funcs.j_integral_simple(cosmo, z_grid), deg=6).convert()\n",
    "int_j_func = np.polynomial.Polynomial(result1d.coef)"
   ]
  },
  {
   "cell_type": "code",
   "execution_count": null,
   "id": "f7ae86a8-63c0-4bf3-82dc-39be66878000",
   "metadata": {},
   "outputs": [],
   "source": [
    "delta = funcs.function_ratio(int_j_func, z_source_vals, z_lens_vals) - funcs.chi_ratio(cosmo, z_lens_vals, z_source_vals)"
   ]
  },
  {
   "cell_type": "code",
   "execution_count": null,
   "id": "2cd6d975-9419-4bf3-b5db-3959421c5c75",
   "metadata": {},
   "outputs": [],
   "source": [
    "_ = plt.plot(z_grid[1:], funcs.j_integral_simple(cosmo, z_grid))\n",
    "_ = plt.plot(z_grid, result1d(z_grid))\n",
    "_ = plt.plot(z_grid, int_j_func(z_grid))"
   ]
  },
  {
   "cell_type": "code",
   "execution_count": null,
   "id": "732aba18-89e8-4496-9e61-334758d0640a",
   "metadata": {},
   "outputs": [],
   "source": [
    "_ = plt.plot(z_grid[1:], funcs.j_integral_simple(cosmo, z_grid) - result1d(z_grid[1:]))\n",
    "_ = plt.plot(z_grid[1:], funcs.j_integral_simple(cosmo, z_grid) - int_j_func(z_grid[1:]))"
   ]
  },
  {
   "cell_type": "code",
   "execution_count": null,
   "id": "bbe245ab-f190-4a1a-8848-b8f38ddd82c5",
   "metadata": {},
   "outputs": [],
   "source": [
    "#fixed_vals = dict(H0=70. * u.km / u.s / u.Mpc)\n",
    "#param_names = ['Om0', 'Ob0']\n",
    "#param_scales = dict()\n",
    "#init_pars_cosmo = [0.30, 0.05]\n",
    "\n",
    "fixed_vals = dict()\n",
    "param_names = ['H0', 'Om0', 'Ob0']\n",
    "init_pars_cosmo = [70, 0.25, 0.05]\n",
    "param_scales = dict(H0=u.km / u.s / u.Mpc)"
   ]
  },
  {
   "cell_type": "code",
   "execution_count": null,
   "id": "17ced3b4-a249-4a57-8b6d-85f822de1280",
   "metadata": {},
   "outputs": [],
   "source": [
    "pf = TDPolyChi2(z_lens_vals, z_source_vals, R_obs, R_errs, constraint=1e-6)\n",
    "pf_unc = TDPolyChi2(z_lens_vals, z_source_vals, R_obs, R_errs)\n",
    "cf = TDCosmoChi2(z_lens_vals, z_source_vals, R_obs, R_errs, param_names, param_scales, **fixed_vals)"
   ]
  },
  {
   "cell_type": "code",
   "execution_count": null,
   "id": "da3b77b4-53cb-4ffb-a0fd-168e02c6c2ee",
   "metadata": {},
   "outputs": [],
   "source": [
    "init_pars = result1d.coef"
   ]
  },
  {
   "cell_type": "code",
   "execution_count": null,
   "id": "31d1c788-e918-4503-ba1c-f038c6f0b49d",
   "metadata": {},
   "outputs": [],
   "source": [
    "result = scipy.optimize.minimize(pf, init_pars, method='nelder-mead', options={'xatol': 1e-9, 'disp': True, 'maxiter':2000})\n",
    "result_unc = scipy.optimize.minimize(pf_unc, init_pars, method='nelder-mead', options={'xatol': 1e-9, 'disp': True, 'maxiter':2000})\n",
    "result_c = scipy.optimize.minimize(cf, init_pars_cosmo, method='L-BFGS-B', options={'gtol': 0.01})"
   ]
  },
  {
   "cell_type": "code",
   "execution_count": null,
   "id": "5d1fcb1e-ce97-4333-9491-4d7da45567a9",
   "metadata": {},
   "outputs": [],
   "source": [
    "mat = np.matrix(result_c.hess_inv.todense())\n",
    "hesse = mat.getI()\n",
    "h0_grid = np.linspace(50, 100, 501)\n",
    "Om0_grid = np.linspace(0.2, 0.5, 501)\n",
    "mesh = np.meshgrid(h0_grid, Om0_grid)\n",
    "dx, dy = mesh[0] - result_c.x[0], mesh[1] - result_c.x[1]\n",
    "nulls = np.zeros(dx.shape)\n",
    "dels = np.squeeze(np.dstack([dx.ravel(), dy.ravel(), nulls.ravel()]))\n",
    "diffs = np.reshape(np.array([np.matmul(del_, np.matmul(hesse, del_).T) for del_ in dels]), dx.shape)"
   ]
  },
  {
   "cell_type": "code",
   "execution_count": null,
   "id": "cf004664-cf57-4a30-bcc7-3bf44605fabc",
   "metadata": {},
   "outputs": [],
   "source": [
    "_ = plt.contour(h0_grid, Om0_grid, diffs, levels=[1, 4, 9])\n",
    "_ = plt.xlabel(r'$H_{0} [km \\cdot s^{-1} \\cdot Mpc^{-1}]$') \n",
    "_ = plt.ylabel(r'$\\Omega_{m, 0}$')"
   ]
  },
  {
   "cell_type": "code",
   "execution_count": null,
   "id": "368cdf11-9b95-4012-bf8c-3688bd447459",
   "metadata": {},
   "outputs": [],
   "source": [
    "_ = plt.scatter(pf.z_d, pf.z_s, c=pf.resid(init_pars))\n",
    "_ = plt.colorbar()"
   ]
  },
  {
   "cell_type": "code",
   "execution_count": null,
   "id": "bf32651d-d1dd-4d02-9146-9c2c3a491e35",
   "metadata": {},
   "outputs": [],
   "source": [
    "_ = plt.scatter(cf.z_d, cf.z_s, c=cf.resid(result_c.x), s=5)\n",
    "_ = plt.colorbar(label=r\"$\\delta R$\")\n",
    "_ = plt.xlabel(r\"$z_d$\")\n",
    "_ = plt.ylabel(r\"$z_s$\")\n",
    "_ = plt.ylim(0, 6)\n",
    "_ = plt.xlim(0, 3)"
   ]
  },
  {
   "cell_type": "code",
   "execution_count": null,
   "id": "a8815b9c-6550-4539-bcbd-27c0651260f4",
   "metadata": {},
   "outputs": [],
   "source": []
  },
  {
   "cell_type": "code",
   "execution_count": null,
   "id": "200ba2bc-38c0-488a-9780-d95294091eb8",
   "metadata": {},
   "outputs": [],
   "source": [
    "bin_edges = np.logspace(-0.10, 0.5, 10)\n",
    "z_source_vals = cf.z_s\n",
    "z_lens_vals = cf.z_d\n",
    "resid_vals = cf.resid(result_c.x)\n",
    "err_vals = cf.errs\n",
    "for bin_low, bin_hi in zip(bin_edges[0:-1], bin_edges[1:]):\n",
    "    source_mask = np.bitwise_and(z_source_vals > bin_low, z_source_vals <= bin_hi)\n",
    "    _ = plt.errorbar(\n",
    "        z_lens_vals[source_mask],\n",
    "        resid_vals[source_mask], \n",
    "        err_vals[source_mask],\n",
    "        marker='.',\n",
    "        ls=\"\", \n",
    "        label=f\"z_s {bin_low:.2f} - {bin_hi:.2f}\",\n",
    "        alpha=0.4,\n",
    "    )\n",
    "_ = plt.xlabel(r\"$z_{d}$\")\n",
    "_ = plt.ylabel(r\"$\\delta R_{ds}$\")\n",
    "_ = plt.xlim(0, 2.5)\n",
    "_ = plt.ylim(-0.2, 0.2)\n"
   ]
  },
  {
   "cell_type": "code",
   "execution_count": null,
   "id": "3a5bef49-d274-435b-8898-5b5ad6dd6fbb",
   "metadata": {},
   "outputs": [],
   "source": [
    "modeler = np.polynomial.Polynomial(result_c.x)\n",
    "modeler_unc = np.polynomial.Polynomial(result_c.x)"
   ]
  },
  {
   "cell_type": "code",
   "execution_count": null,
   "id": "e676e75d-a7a7-48e0-b60a-21d4e0d30e1b",
   "metadata": {},
   "outputs": [],
   "source": [
    "_ = plt.plot(z_grid[1:], funcs.j_integral_simple(cosmo, z_grid))\n",
    "_ = plt.plot(z_grid, modeler(z_grid))\n",
    "_ = plt.plot(z_grid, modeler_unc(z_grid))"
   ]
  },
  {
   "cell_type": "code",
   "execution_count": null,
   "id": "3916dfd8-970b-43c5-bcd1-43a5f0d3cc87",
   "metadata": {},
   "outputs": [],
   "source": [
    "modelSpace = pf.model_space(z_grid, result_c.x)"
   ]
  },
  {
   "cell_type": "code",
   "execution_count": null,
   "id": "770ca77d-fec2-45e7-ac4e-683a0d20b17f",
   "metadata": {},
   "outputs": [],
   "source": [
    "_ = plt.imshow(modelSpace, origin='lower', extent=(z_grid[0], z_grid[-1], z_grid[0], z_grid[-1]))\n",
    "_ = plt.colorbar(label=r\"$R_{ds} = \\chi_{s}/\\chi_{d}$\")\n",
    "_ = plt.xlabel(r'$z_{\\rm d}$')\n",
    "_ = plt.ylabel(r'$z_{\\rm s}$')\n",
    "_ = plt.title(r'$\\Lambda CDM$')"
   ]
  },
  {
   "cell_type": "code",
   "execution_count": null,
   "id": "a1091afb-b9de-4943-a788-e4419af6c2dd",
   "metadata": {},
   "outputs": [],
   "source": [
    "j_int = np.polynomial.Polynomial(init_pars)\n",
    "j_int2 = np.polynomial.Polynomial(result.x)\n",
    "j_int_unc = np.polynomial.Polynomial(result_unc.x)"
   ]
  },
  {
   "cell_type": "code",
   "execution_count": null,
   "id": "e54e7e1a-9a96-45f4-a8a0-b623c8831960",
   "metadata": {},
   "outputs": [],
   "source": [
    "j_z = j_int.deriv(1)\n",
    "j_z2 = j_int2.deriv(1)\n",
    "j_int_unc = j_int_unc.deriv(1)"
   ]
  },
  {
   "cell_type": "code",
   "execution_count": null,
   "id": "e3063d95-8758-4a5d-88b7-78a318afc7da",
   "metadata": {},
   "outputs": [],
   "source": [
    "_ = plt.plot(z_grid, 1/j_z(z_grid))\n",
    "_ = plt.plot(z_grid, 1/j_z2(z_grid))\n",
    "_ = plt.plot(z_grid, cosmo.h_over_h0(a_grid))\n",
    "#_ = plt.xlim(0, 3)"
   ]
  },
  {
   "cell_type": "code",
   "execution_count": null,
   "id": "8daf7b7b-21e2-4503-b24c-2599d7d63445",
   "metadata": {},
   "outputs": [],
   "source": [
    "_ = plt.plot(z_grid, (1/j_z(z_grid))/cosmo.h_over_h0(a_grid))"
   ]
  },
  {
   "cell_type": "code",
   "execution_count": null,
   "id": "382ed735-890c-4a74-882d-c1710411ae0c",
   "metadata": {},
   "outputs": [],
   "source": []
  },
  {
   "cell_type": "code",
   "execution_count": null,
   "id": "bba33917-3f35-4073-ad3d-220e7623fc7d",
   "metadata": {},
   "outputs": [],
   "source": []
  },
  {
   "cell_type": "code",
   "execution_count": null,
   "id": "7cb1f1a8-2070-405f-b3a4-95bd2d74951c",
   "metadata": {},
   "outputs": [],
   "source": []
  }
 ],
 "metadata": {
  "kernelspec": {
   "display_name": "Python 3 (ipykernel)",
   "language": "python",
   "name": "python3"
  },
  "language_info": {
   "codemirror_mode": {
    "name": "ipython",
    "version": 3
   },
   "file_extension": ".py",
   "mimetype": "text/x-python",
   "name": "python",
   "nbconvert_exporter": "python",
   "pygments_lexer": "ipython3",
   "version": "3.12.11"
  }
 },
 "nbformat": 4,
 "nbformat_minor": 5
}
